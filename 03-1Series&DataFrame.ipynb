{
 "cells": [
  {
   "cell_type": "markdown",
   "id": "9253da26-d894-4a23-affb-af84808101c4",
   "metadata": {},
   "source": [
    "**王毓媛 52240313135**"
   ]
  },
  {
   "cell_type": "code",
   "execution_count": 2,
   "id": "b47b05c9-3c78-4ed2-aed1-e6b433daa2bb",
   "metadata": {},
   "outputs": [],
   "source": [
    "import pandas as pd\n",
    "import numpy as np\n",
    "from pandas import Series,DataFrame#方便使用Series和DataFrame将其引入本地命名空间"
   ]
  },
  {
   "cell_type": "markdown",
   "id": "dec3e04f-07cf-479e-ace2-ab0a6173b515",
   "metadata": {
    "jp-MarkdownHeadingCollapsed": true
   },
   "source": [
    "# Series结构"
   ]
  },
  {
   "cell_type": "markdown",
   "id": "7e4b1d55-0a0e-4371-b293-1760c710a940",
   "metadata": {},
   "source": [
    "## 例3.1"
   ]
  },
  {
   "cell_type": "code",
   "execution_count": null,
   "id": "a0d4ba4d-f42f-4d3a-9ddf-5324991b8979",
   "metadata": {},
   "outputs": [],
   "source": [
    "#Series类似一维数组结构，由索引和值组成"
   ]
  },
  {
   "cell_type": "code",
   "execution_count": 8,
   "id": "a2564b0d-2bed-4dc2-a64e-d25b28616812",
   "metadata": {},
   "outputs": [],
   "source": [
    "#创建5名篮球运动员身高的Series结构对象height，值是身高，索引为球衣号码（数字字符串作为索引）\n",
    "height = Series([187,190,185,178,185],\n",
    "              index = ['13','14','7','2','9'])"
   ]
  },
  {
   "cell_type": "code",
   "execution_count": 9,
   "id": "e8b1c8ef-6587-4f82-b474-d3187c9e97b8",
   "metadata": {},
   "outputs": [
    {
     "data": {
      "text/plain": [
       "13    187\n",
       "14    190\n",
       "7     185\n",
       "2     178\n",
       "9     185\n",
       "dtype: int64"
      ]
     },
     "execution_count": 9,
     "metadata": {},
     "output_type": "execute_result"
    }
   ],
   "source": [
    "height"
   ]
  },
  {
   "cell_type": "code",
   "execution_count": 10,
   "id": "56519a19-0031-4414-aa72-083f8f48d1f8",
   "metadata": {},
   "outputs": [],
   "source": [
    "#用字典创建Series对象，将字典的key作为索引：\n",
    "height = Series({'13':187,'14':190,'7':185,'2':178,'9':185})"
   ]
  },
  {
   "cell_type": "code",
   "execution_count": 11,
   "id": "73d01abb-1b9a-4ba1-8d39-46a29497d98d",
   "metadata": {},
   "outputs": [
    {
     "data": {
      "text/plain": [
       "13    187\n",
       "14    190\n",
       "7     185\n",
       "2     178\n",
       "9     185\n",
       "dtype: int64"
      ]
     },
     "execution_count": 11,
     "metadata": {},
     "output_type": "execute_result"
    }
   ],
   "source": [
    "height"
   ]
  },
  {
   "cell_type": "markdown",
   "id": "96c6ea45-143d-4bc4-b639-43e6fbd279ad",
   "metadata": {},
   "source": [
    "## 例题3-2 ：使用例3-1创建的球员身高Series对象，实现球员数据的查询、增加、删除和修改。"
   ]
  },
  {
   "cell_type": "markdown",
   "id": "11e28e9d-6e1e-4ce7-a9e1-f66ca9fbbec1",
   "metadata": {},
   "source": [
    "### 查找操作"
   ]
  },
  {
   "cell_type": "code",
   "execution_count": 12,
   "id": "c07cc53c-613c-4c63-a5c1-e8fc58fb3c2b",
   "metadata": {},
   "outputs": [
    {
     "data": {
      "text/plain": [
       "187"
      ]
     },
     "execution_count": 12,
     "metadata": {},
     "output_type": "execute_result"
    }
   ],
   "source": [
    "#查询球员身高\n",
    "height['13'] #同height[[0]]"
   ]
  },
  {
   "cell_type": "code",
   "execution_count": 14,
   "id": "3a19f124-fcae-4b19-bdae-55dbe0a107fb",
   "metadata": {},
   "outputs": [
    {
     "name": "stderr",
     "output_type": "stream",
     "text": [
      "C:\\Users\\Administrator\\AppData\\Local\\Temp\\ipykernel_3096\\2714172060.py:1: FutureWarning: Series.__getitem__ treating keys as positions is deprecated. In a future version, integer keys will always be treated as labels (consistent with DataFrame behavior). To access a value by position, use `ser.iloc[pos]`\n",
      "  height[[1,3,0]] #同height['14','2','13']\n"
     ]
    },
    {
     "data": {
      "text/plain": [
       "14    190\n",
       "2     178\n",
       "13    187\n",
       "dtype: int64"
      ]
     },
     "execution_count": 14,
     "metadata": {},
     "output_type": "execute_result"
    }
   ],
   "source": [
    "height[[1,3,0]] #同height['14','2','13']"
   ]
  },
  {
   "cell_type": "code",
   "execution_count": 16,
   "id": "7af12f91-2c29-49b9-88de-1511edcd109e",
   "metadata": {},
   "outputs": [
    {
     "data": {
      "text/plain": [
       "14    190\n",
       "7     185\n",
       "2     178\n",
       "dtype: int64"
      ]
     },
     "execution_count": 16,
     "metadata": {},
     "output_type": "execute_result"
    }
   ],
   "source": [
    "height[1:4]  #查找标签序号为1-4的球员身高，序号从0开始，不包括4"
   ]
  },
  {
   "cell_type": "code",
   "execution_count": 19,
   "id": "863899aa-c546-4b36-ad9c-8ef86f072eee",
   "metadata": {},
   "outputs": [
    {
     "data": {
      "text/plain": [
       "13    187\n",
       "14    190\n",
       "dtype: int64"
      ]
     },
     "execution_count": 19,
     "metadata": {},
     "output_type": "execute_result"
    }
   ],
   "source": [
    "height[height.values >= 186] #查找身高高于186的球员"
   ]
  },
  {
   "cell_type": "markdown",
   "id": "0d92aecd-31e5-4d0c-9b30-00b09e54ca7c",
   "metadata": {},
   "source": [
    "### 修改操作"
   ]
  },
  {
   "cell_type": "code",
   "execution_count": 22,
   "id": "ae2040f5-6154-457a-8911-43016fb4e755",
   "metadata": {},
   "outputs": [
    {
     "name": "stderr",
     "output_type": "stream",
     "text": [
      "C:\\Users\\Administrator\\AppData\\Local\\Temp\\ipykernel_3096\\1672265165.py:2: FutureWarning: Series.__setitem__ treating keys as positions is deprecated. In a future version, integer keys will always be treated as labels (consistent with DataFrame behavior). To set a value by position, use `ser.iloc[pos] = value`\n",
      "  height[[0]]= 188\n"
     ]
    }
   ],
   "source": [
    "#修改球员身高\n",
    "height[[0]]= 188 #同height['13'] = 188"
   ]
  },
  {
   "cell_type": "code",
   "execution_count": 23,
   "id": "0e09a209-9033-46e5-9077-b295a3772f74",
   "metadata": {},
   "outputs": [
    {
     "name": "stderr",
     "output_type": "stream",
     "text": [
      "C:\\Users\\Administrator\\AppData\\Local\\Temp\\ipykernel_3096\\2668128579.py:1: FutureWarning: Series.__getitem__ treating keys as positions is deprecated. In a future version, integer keys will always be treated as labels (consistent with DataFrame behavior). To access a value by position, use `ser.iloc[pos]`\n",
      "  height [0]\n"
     ]
    },
    {
     "data": {
      "text/plain": [
       "188"
      ]
     },
     "execution_count": 23,
     "metadata": {},
     "output_type": "execute_result"
    }
   ],
   "source": [
    "height [0]"
   ]
  },
  {
   "cell_type": "code",
   "execution_count": 24,
   "id": "c6729bdd-7f0c-42f3-88b6-eb4d532a4160",
   "metadata": {},
   "outputs": [],
   "source": [
    "height[1:3] = 201 #修改序号下标1-2的球员身高为201，不包4，下标从0开始"
   ]
  },
  {
   "cell_type": "code",
   "execution_count": 25,
   "id": "83c53912-aeaa-4529-9b99-eda2c6f18ec5",
   "metadata": {},
   "outputs": [
    {
     "data": {
      "text/plain": [
       "13    188\n",
       "14    201\n",
       "7     201\n",
       "2     178\n",
       "9     185\n",
       "dtype: int64"
      ]
     },
     "execution_count": 25,
     "metadata": {},
     "output_type": "execute_result"
    }
   ],
   "source": [
    "height"
   ]
  },
  {
   "cell_type": "markdown",
   "id": "fe1fdac2-a0e4-419d-95e6-0eed56c14a9a",
   "metadata": {},
   "source": [
    "### 增加数据"
   ]
  },
  {
   "cell_type": "markdown",
   "id": "127a45e6-d8a4-4761-a828-34e93dcb899b",
   "metadata": {},
   "source": [
    "#### Series不能直接添加新数据，append()函数将两个Series拼接产生一个新的Series不改变原Series"
   ]
  },
  {
   "cell_type": "code",
   "execution_count": 30,
   "id": "15544724-351c-43cb-b8d5-00f096f976d8",
   "metadata": {},
   "outputs": [],
   "source": [
    "height2 = Series([197,199],\n",
    "                 index = ['23','5'])"
   ]
  },
  {
   "cell_type": "code",
   "execution_count": 31,
   "id": "c6addca4-c53a-45bc-a415-e74c27ef1d74",
   "metadata": {},
   "outputs": [],
   "source": [
    "new_height = height._append(height2)\n",
    "#注：这里原来使用.append()会报错显示Series没有append模块，是pandas版本的问题，改成._append()即可解决问题"
   ]
  },
  {
   "cell_type": "code",
   "execution_count": 32,
   "id": "213423cb-e4f3-4c23-a881-030806514d77",
   "metadata": {},
   "outputs": [
    {
     "data": {
      "text/plain": [
       "13    188\n",
       "14    201\n",
       "7     201\n",
       "2     178\n",
       "9     185\n",
       "23    197\n",
       "5     199\n",
       "dtype: int64"
      ]
     },
     "execution_count": 32,
     "metadata": {},
     "output_type": "execute_result"
    }
   ],
   "source": [
    "new_height"
   ]
  },
  {
   "cell_type": "markdown",
   "id": "cd34f0a0-4bd8-4d8e-b1d7-4c7c897dc504",
   "metadata": {},
   "source": [
    "### 删除数据"
   ]
  },
  {
   "cell_type": "code",
   "execution_count": 33,
   "id": "f47e5f52-e7d6-4438-add3-aae6188ee14a",
   "metadata": {},
   "outputs": [],
   "source": [
    "new_height = height.drop(['13','9'])"
   ]
  },
  {
   "cell_type": "code",
   "execution_count": 34,
   "id": "3b540db6-99dc-42cb-8ead-af1282c1c933",
   "metadata": {},
   "outputs": [
    {
     "data": {
      "text/plain": [
       "14    201\n",
       "7     201\n",
       "2     178\n",
       "dtype: int64"
      ]
     },
     "execution_count": 34,
     "metadata": {},
     "output_type": "execute_result"
    }
   ],
   "source": [
    "new_height"
   ]
  },
  {
   "cell_type": "code",
   "execution_count": 35,
   "id": "c5209a95-13b1-40dd-930a-bfedcf041ef5",
   "metadata": {},
   "outputs": [
    {
     "data": {
      "text/plain": [
       "13    188\n",
       "14    201\n",
       "7     201\n",
       "2     178\n",
       "9     185\n",
       "dtype: int64"
      ]
     },
     "execution_count": 35,
     "metadata": {},
     "output_type": "execute_result"
    }
   ],
   "source": [
    "height #删除不改变原结构对象中的数据"
   ]
  },
  {
   "cell_type": "code",
   "execution_count": 37,
   "id": "7642c758-3a39-4ceb-b83d-a163ea2416d4",
   "metadata": {},
   "outputs": [],
   "source": [
    "new_height = height.drop(['13','9'],inplace = True) #加上inplace = True即可删除原对象中的数据"
   ]
  },
  {
   "cell_type": "code",
   "execution_count": 38,
   "id": "a71f8b7c-b49a-497b-986d-1a45360c2bcf",
   "metadata": {},
   "outputs": [
    {
     "data": {
      "text/plain": [
       "14    201\n",
       "7     201\n",
       "2     178\n",
       "dtype: int64"
      ]
     },
     "execution_count": 38,
     "metadata": {},
     "output_type": "execute_result"
    }
   ],
   "source": [
    "height"
   ]
  },
  {
   "cell_type": "code",
   "execution_count": null,
   "id": "0ddaedc4-5b97-4bf6-80f5-4cd512de4385",
   "metadata": {},
   "outputs": [],
   "source": [
    "heigh.drop(heigh.index[1:4],inplace = True) #可以直接修改原Series而不创建新的对象"
   ]
  },
  {
   "cell_type": "markdown",
   "id": "89f38da8-db85-4a41-8060-39122e7d9810",
   "metadata": {},
   "source": [
    "### 修改索引值"
   ]
  },
  {
   "cell_type": "code",
   "execution_count": 40,
   "id": "b2b9d1aa-b54f-4f4a-9939-ee2435ba0db3",
   "metadata": {},
   "outputs": [],
   "source": [
    "height.index = [2,1,211]  #这里是数字索引"
   ]
  },
  {
   "cell_type": "code",
   "execution_count": 41,
   "id": "56619ace-ddee-4538-a8aa-40693fa55edb",
   "metadata": {},
   "outputs": [
    {
     "data": {
      "text/plain": [
       "201"
      ]
     },
     "execution_count": 41,
     "metadata": {},
     "output_type": "execute_result"
    }
   ],
   "source": [
    "height.iloc[0] #基于位置序号访问的方式需要使用iloc方式"
   ]
  },
  {
   "cell_type": "code",
   "execution_count": 42,
   "id": "fa81ccd2-f26a-400a-8904-8bd03806b95b",
   "metadata": {},
   "outputs": [],
   "source": [
    "height.index = ['9','8','5'] #这里是字符索引"
   ]
  },
  {
   "cell_type": "code",
   "execution_count": 45,
   "id": "188a0e85-99c0-4fe7-a9e9-9fa4b5516ac7",
   "metadata": {},
   "outputs": [
    {
     "data": {
      "text/plain": [
       "178"
      ]
     },
     "execution_count": 45,
     "metadata": {},
     "output_type": "execute_result"
    }
   ],
   "source": [
    "height['5'] #同height.iloc[2],同height[[2]] ,注意这里是两个[[]]"
   ]
  },
  {
   "cell_type": "markdown",
   "id": "27f19016-04ce-4cf1-94e5-c4d2c7088c4d",
   "metadata": {},
   "source": [
    "### Series课后作业"
   ]
  },
  {
   "cell_type": "markdown",
   "id": "bad0b11d-0464-4782-a3db-97c6e66bc659",
   "metadata": {},
   "source": [
    "####一、 创建并访问Series对象。\n",
    " \n",
    "1）创建如下表的Series数据对象，其中a-f为索引；\n",
    "\n",
    "2）增加数据27，索引为g；\n",
    "\n",
    "3）修改索引d对应的值为40；\n",
    "\n",
    "4）查询值大于27的数据；\n",
    "\n",
    "5）删除位置为1-3的数据。\n",
    "\n",
    "【提示】位置1-3的索引列表，可以用 series.index[1:4] 来得到。"
   ]
  },
  {
   "cell_type": "code",
   "execution_count": 65,
   "id": "b252e65a-11b0-4e3e-afa1-2780ba9bcfab",
   "metadata": {},
   "outputs": [],
   "source": [
    "afterclass_work = Series([30,25,27,41,25,34],\n",
    "                        index=['a','b','c','d','e','f'])"
   ]
  },
  {
   "cell_type": "code",
   "execution_count": 66,
   "id": "82fd10e0-838a-4550-af65-ea573b7accec",
   "metadata": {},
   "outputs": [
    {
     "data": {
      "text/plain": [
       "a    30\n",
       "b    25\n",
       "c    27\n",
       "d    41\n",
       "e    25\n",
       "f    34\n",
       "dtype: int64"
      ]
     },
     "execution_count": 66,
     "metadata": {},
     "output_type": "execute_result"
    }
   ],
   "source": [
    "afterclass_work"
   ]
  },
  {
   "cell_type": "code",
   "execution_count": 67,
   "id": "0ec7fba4-d354-42e3-a261-61a207cdbfb9",
   "metadata": {},
   "outputs": [],
   "source": [
    "#增加数据27，索引为g；\n",
    "afterclass_work2=Series([27],\n",
    "                        index = ['g'])\n",
    "new_afterclassw = afterclass_work._append(afterclass_work2)"
   ]
  },
  {
   "cell_type": "code",
   "execution_count": 68,
   "id": "3d953744-926c-4de9-b190-c39e6dd4acb4",
   "metadata": {},
   "outputs": [
    {
     "data": {
      "text/plain": [
       "a    30\n",
       "b    25\n",
       "c    27\n",
       "d    41\n",
       "e    25\n",
       "f    34\n",
       "g    27\n",
       "dtype: int64"
      ]
     },
     "execution_count": 68,
     "metadata": {},
     "output_type": "execute_result"
    }
   ],
   "source": [
    "new_afterclassw"
   ]
  },
  {
   "cell_type": "code",
   "execution_count": 69,
   "id": "9e469ea9-bbda-4d88-b940-2e740e57ce0e",
   "metadata": {},
   "outputs": [],
   "source": [
    "#修改索引d对应的值为40\n",
    "afterclass_work['d'] = 40"
   ]
  },
  {
   "cell_type": "code",
   "execution_count": 70,
   "id": "016e62d1-eff0-4f97-97f4-e11814c2b0af",
   "metadata": {},
   "outputs": [
    {
     "data": {
      "text/plain": [
       "40"
      ]
     },
     "execution_count": 70,
     "metadata": {},
     "output_type": "execute_result"
    }
   ],
   "source": [
    "afterclass_work['d']"
   ]
  },
  {
   "cell_type": "code",
   "execution_count": 71,
   "id": "a09ee958-885e-4161-bd21-65f5447fd44d",
   "metadata": {},
   "outputs": [
    {
     "data": {
      "text/plain": [
       "a    30\n",
       "d    40\n",
       "f    34\n",
       "dtype: int64"
      ]
     },
     "execution_count": 71,
     "metadata": {},
     "output_type": "execute_result"
    }
   ],
   "source": [
    "#查询值大于27的数据\n",
    "afterclass_work[afterclass_work.values > 27]"
   ]
  },
  {
   "cell_type": "code",
   "execution_count": 73,
   "id": "7725d929-ca13-4aca-985a-ebd528c6e3d0",
   "metadata": {},
   "outputs": [],
   "source": [
    "#删除位置1-3的数据\n",
    "afterclass_work.drop(afterclass_work.index[1:4],inplace = True)"
   ]
  },
  {
   "cell_type": "code",
   "execution_count": 76,
   "id": "bfea7af8-c1a8-4f10-ad13-18f594537241",
   "metadata": {},
   "outputs": [
    {
     "data": {
      "text/plain": [
       "a    30\n",
       "e    25\n",
       "f    34\n",
       "dtype: int64"
      ]
     },
     "execution_count": 76,
     "metadata": {},
     "output_type": "execute_result"
    }
   ],
   "source": [
    "afterclass_work"
   ]
  },
  {
   "cell_type": "markdown",
   "id": "a5233f2e-0be0-4f77-ba32-7e132104ea9c",
   "metadata": {},
   "source": [
    "# DataFrame结构"
   ]
  },
  {
   "cell_type": "markdown",
   "id": "a4667760-5762-44f4-84f6-792008021c93",
   "metadata": {},
   "source": [
    "### DataFrame 创建方法：\n",
    "\n",
    "DataFrame ( data，index = […]，columns=[…] )\n",
    " \n",
    "data：列表或NumPy的二维ndarray对象\n",
    "\n",
    "index，colunms：列表，若省略则自动生成0 ~n-1的序号标签"
   ]
  },
  {
   "cell_type": "markdown",
   "id": "7994c7ae-7481-4e05-a05d-c7bb16876db2",
   "metadata": {},
   "source": [
    "## 例题3-3"
   ]
  },
  {
   "cell_type": "markdown",
   "id": "e0ba38ea-8d8f-4ec2-a36e-efdd59912a2c",
   "metadata": {},
   "source": [
    "### 创建DataFrame对象"
   ]
  },
  {
   "cell_type": "code",
   "execution_count": 78,
   "id": "e631da69-4ce3-4ce4-b1ab-749b9fc1fd3b",
   "metadata": {},
   "outputs": [],
   "source": [
    "#students记录3名学生的信息 行索引为数字序号；列索引为age、weight和height\n",
    "data = [[19,170,68],[20,165,65],[18,175,65]] #创建一个二维数组，data列表的每个元素初始化为DataFrame的一行值\n",
    "students = DataFrame(data,\n",
    "                     index = [1,2,3],\n",
    "                     columns = ['age','height','weight'])"
   ]
  },
  {
   "cell_type": "code",
   "execution_count": 79,
   "id": "195c493f-794f-4840-8320-46b56fd227f5",
   "metadata": {},
   "outputs": [
    {
     "data": {
      "text/html": [
       "<div>\n",
       "<style scoped>\n",
       "    .dataframe tbody tr th:only-of-type {\n",
       "        vertical-align: middle;\n",
       "    }\n",
       "\n",
       "    .dataframe tbody tr th {\n",
       "        vertical-align: top;\n",
       "    }\n",
       "\n",
       "    .dataframe thead th {\n",
       "        text-align: right;\n",
       "    }\n",
       "</style>\n",
       "<table border=\"1\" class=\"dataframe\">\n",
       "  <thead>\n",
       "    <tr style=\"text-align: right;\">\n",
       "      <th></th>\n",
       "      <th>age</th>\n",
       "      <th>height</th>\n",
       "      <th>weight</th>\n",
       "    </tr>\n",
       "  </thead>\n",
       "  <tbody>\n",
       "    <tr>\n",
       "      <th>1</th>\n",
       "      <td>19</td>\n",
       "      <td>170</td>\n",
       "      <td>68</td>\n",
       "    </tr>\n",
       "    <tr>\n",
       "      <th>2</th>\n",
       "      <td>20</td>\n",
       "      <td>165</td>\n",
       "      <td>65</td>\n",
       "    </tr>\n",
       "    <tr>\n",
       "      <th>3</th>\n",
       "      <td>18</td>\n",
       "      <td>175</td>\n",
       "      <td>65</td>\n",
       "    </tr>\n",
       "  </tbody>\n",
       "</table>\n",
       "</div>"
      ],
      "text/plain": [
       "   age  height  weight\n",
       "1   19     170      68\n",
       "2   20     165      65\n",
       "3   18     175      65"
      ]
     },
     "execution_count": 79,
     "metadata": {},
     "output_type": "execute_result"
    }
   ],
   "source": [
    "students"
   ]
  },
  {
   "cell_type": "markdown",
   "id": "16617577-0f0b-4c27-b888-d4832002f85f",
   "metadata": {},
   "source": [
    "### 查找操作"
   ]
  },
  {
   "cell_type": "code",
   "execution_count": 80,
   "id": "89dca511-950d-4dfe-b2d0-7af195a140d5",
   "metadata": {},
   "outputs": [
    {
     "data": {
      "text/plain": [
       "19"
      ]
     },
     "execution_count": 80,
     "metadata": {},
     "output_type": "execute_result"
    }
   ],
   "source": [
    "#学生信息查询\n",
    "students.loc[1,'age'] #查找1号学生的年龄"
   ]
  },
  {
   "cell_type": "code",
   "execution_count": 82,
   "id": "a2616cfa-b2a2-41b2-bd0a-0b87ab4a86a4",
   "metadata": {},
   "outputs": [
    {
     "data": {
      "text/html": [
       "<div>\n",
       "<style scoped>\n",
       "    .dataframe tbody tr th:only-of-type {\n",
       "        vertical-align: middle;\n",
       "    }\n",
       "\n",
       "    .dataframe tbody tr th {\n",
       "        vertical-align: top;\n",
       "    }\n",
       "\n",
       "    .dataframe thead th {\n",
       "        text-align: right;\n",
       "    }\n",
       "</style>\n",
       "<table border=\"1\" class=\"dataframe\">\n",
       "  <thead>\n",
       "    <tr style=\"text-align: right;\">\n",
       "      <th></th>\n",
       "      <th>age</th>\n",
       "      <th>height</th>\n",
       "    </tr>\n",
       "  </thead>\n",
       "  <tbody>\n",
       "    <tr>\n",
       "      <th>1</th>\n",
       "      <td>19</td>\n",
       "      <td>170</td>\n",
       "    </tr>\n",
       "    <tr>\n",
       "      <th>3</th>\n",
       "      <td>18</td>\n",
       "      <td>175</td>\n",
       "    </tr>\n",
       "  </tbody>\n",
       "</table>\n",
       "</div>"
      ],
      "text/plain": [
       "   age  height\n",
       "1   19     170\n",
       "3   18     175"
      ]
     },
     "execution_count": 82,
     "metadata": {},
     "output_type": "execute_result"
    }
   ],
   "source": [
    "students.loc[[1,3],['age','height']] #查找1,3号学生的年龄和身高,使用索引名查询"
   ]
  },
  {
   "cell_type": "code",
   "execution_count": 83,
   "id": "19172921-9492-49ee-982a-c89ef4bb6cb4",
   "metadata": {},
   "outputs": [
    {
     "data": {
      "text/html": [
       "<div>\n",
       "<style scoped>\n",
       "    .dataframe tbody tr th:only-of-type {\n",
       "        vertical-align: middle;\n",
       "    }\n",
       "\n",
       "    .dataframe tbody tr th {\n",
       "        vertical-align: top;\n",
       "    }\n",
       "\n",
       "    .dataframe thead th {\n",
       "        text-align: right;\n",
       "    }\n",
       "</style>\n",
       "<table border=\"1\" class=\"dataframe\">\n",
       "  <thead>\n",
       "    <tr style=\"text-align: right;\">\n",
       "      <th></th>\n",
       "      <th>age</th>\n",
       "      <th>height</th>\n",
       "    </tr>\n",
       "  </thead>\n",
       "  <tbody>\n",
       "    <tr>\n",
       "      <th>1</th>\n",
       "      <td>19</td>\n",
       "      <td>170</td>\n",
       "    </tr>\n",
       "    <tr>\n",
       "      <th>3</th>\n",
       "      <td>18</td>\n",
       "      <td>175</td>\n",
       "    </tr>\n",
       "  </tbody>\n",
       "</table>\n",
       "</div>"
      ],
      "text/plain": [
       "   age  height\n",
       "1   19     170\n",
       "3   18     175"
      ]
     },
     "execution_count": 83,
     "metadata": {},
     "output_type": "execute_result"
    }
   ],
   "source": [
    "students.iloc[[0,2],[0,1]] #查找第0,2行，和第0,1列的值，使用位置序号查询"
   ]
  },
  {
   "cell_type": "code",
   "execution_count": 84,
   "id": "ea8115a7-f957-4172-bb6e-8e111735db0c",
   "metadata": {},
   "outputs": [
    {
     "data": {
      "text/html": [
       "<div>\n",
       "<style scoped>\n",
       "    .dataframe tbody tr th:only-of-type {\n",
       "        vertical-align: middle;\n",
       "    }\n",
       "\n",
       "    .dataframe tbody tr th {\n",
       "        vertical-align: top;\n",
       "    }\n",
       "\n",
       "    .dataframe thead th {\n",
       "        text-align: right;\n",
       "    }\n",
       "</style>\n",
       "<table border=\"1\" class=\"dataframe\">\n",
       "  <thead>\n",
       "    <tr style=\"text-align: right;\">\n",
       "      <th></th>\n",
       "      <th>age</th>\n",
       "      <th>weight</th>\n",
       "    </tr>\n",
       "  </thead>\n",
       "  <tbody>\n",
       "    <tr>\n",
       "      <th>1</th>\n",
       "      <td>19</td>\n",
       "      <td>68</td>\n",
       "    </tr>\n",
       "    <tr>\n",
       "      <th>2</th>\n",
       "      <td>20</td>\n",
       "      <td>65</td>\n",
       "    </tr>\n",
       "    <tr>\n",
       "      <th>3</th>\n",
       "      <td>18</td>\n",
       "      <td>65</td>\n",
       "    </tr>\n",
       "  </tbody>\n",
       "</table>\n",
       "</div>"
      ],
      "text/plain": [
       "   age  weight\n",
       "1   19      68\n",
       "2   20      65\n",
       "3   18      65"
      ]
     },
     "execution_count": 84,
     "metadata": {},
     "output_type": "execute_result"
    }
   ],
   "source": [
    "students.loc[:,['age','weight']] #“：”表示查询所有行的数据"
   ]
  },
  {
   "cell_type": "code",
   "execution_count": 87,
   "id": "d5471219-2b97-4d3b-8293-22435b4243cd",
   "metadata": {},
   "outputs": [
    {
     "data": {
      "text/html": [
       "<div>\n",
       "<style scoped>\n",
       "    .dataframe tbody tr th:only-of-type {\n",
       "        vertical-align: middle;\n",
       "    }\n",
       "\n",
       "    .dataframe tbody tr th {\n",
       "        vertical-align: top;\n",
       "    }\n",
       "\n",
       "    .dataframe thead th {\n",
       "        text-align: right;\n",
       "    }\n",
       "</style>\n",
       "<table border=\"1\" class=\"dataframe\">\n",
       "  <thead>\n",
       "    <tr style=\"text-align: right;\">\n",
       "      <th></th>\n",
       "      <th>height</th>\n",
       "      <th>weight</th>\n",
       "    </tr>\n",
       "  </thead>\n",
       "  <tbody>\n",
       "    <tr>\n",
       "      <th>1</th>\n",
       "      <td>170</td>\n",
       "      <td>68</td>\n",
       "    </tr>\n",
       "    <tr>\n",
       "      <th>2</th>\n",
       "      <td>165</td>\n",
       "      <td>65</td>\n",
       "    </tr>\n",
       "    <tr>\n",
       "      <th>3</th>\n",
       "      <td>175</td>\n",
       "      <td>65</td>\n",
       "    </tr>\n",
       "  </tbody>\n",
       "</table>\n",
       "</div>"
      ],
      "text/plain": [
       "   height  weight\n",
       "1     170      68\n",
       "2     165      65\n",
       "3     175      65"
      ]
     },
     "execution_count": 87,
     "metadata": {},
     "output_type": "execute_result"
    }
   ],
   "source": [
    "students[['height','weight'] ]#查询所有人的身高和体重"
   ]
  },
  {
   "cell_type": "code",
   "execution_count": 89,
   "id": "06ae5e31-1393-478d-96d2-e612b4d3f354",
   "metadata": {},
   "outputs": [
    {
     "data": {
      "text/html": [
       "<div>\n",
       "<style scoped>\n",
       "    .dataframe tbody tr th:only-of-type {\n",
       "        vertical-align: middle;\n",
       "    }\n",
       "\n",
       "    .dataframe tbody tr th {\n",
       "        vertical-align: top;\n",
       "    }\n",
       "\n",
       "    .dataframe thead th {\n",
       "        text-align: right;\n",
       "    }\n",
       "</style>\n",
       "<table border=\"1\" class=\"dataframe\">\n",
       "  <thead>\n",
       "    <tr style=\"text-align: right;\">\n",
       "      <th></th>\n",
       "      <th>age</th>\n",
       "      <th>height</th>\n",
       "    </tr>\n",
       "  </thead>\n",
       "  <tbody>\n",
       "    <tr>\n",
       "      <th>2</th>\n",
       "      <td>20</td>\n",
       "      <td>165</td>\n",
       "    </tr>\n",
       "    <tr>\n",
       "      <th>3</th>\n",
       "      <td>18</td>\n",
       "      <td>175</td>\n",
       "    </tr>\n",
       "  </tbody>\n",
       "</table>\n",
       "</div>"
      ],
      "text/plain": [
       "   age  height\n",
       "2   20     165\n",
       "3   18     175"
      ]
     },
     "execution_count": 89,
     "metadata": {},
     "output_type": "execute_result"
    }
   ],
   "source": [
    "students.iloc[1:,0:2] #通过切片方式抽取第1行之后的所有元素+0-1列"
   ]
  },
  {
   "cell_type": "code",
   "execution_count": 90,
   "id": "db283bcf-57c7-4cf5-abf3-9ec3f62f8c3f",
   "metadata": {},
   "outputs": [
    {
     "data": {
      "text/html": [
       "<div>\n",
       "<style scoped>\n",
       "    .dataframe tbody tr th:only-of-type {\n",
       "        vertical-align: middle;\n",
       "    }\n",
       "\n",
       "    .dataframe tbody tr th {\n",
       "        vertical-align: top;\n",
       "    }\n",
       "\n",
       "    .dataframe thead th {\n",
       "        text-align: right;\n",
       "    }\n",
       "</style>\n",
       "<table border=\"1\" class=\"dataframe\">\n",
       "  <thead>\n",
       "    <tr style=\"text-align: right;\">\n",
       "      <th></th>\n",
       "      <th>age</th>\n",
       "      <th>height</th>\n",
       "      <th>weight</th>\n",
       "    </tr>\n",
       "  </thead>\n",
       "  <tbody>\n",
       "    <tr>\n",
       "      <th>2</th>\n",
       "      <td>20</td>\n",
       "      <td>165</td>\n",
       "      <td>65</td>\n",
       "    </tr>\n",
       "    <tr>\n",
       "      <th>3</th>\n",
       "      <td>18</td>\n",
       "      <td>175</td>\n",
       "      <td>65</td>\n",
       "    </tr>\n",
       "  </tbody>\n",
       "</table>\n",
       "</div>"
      ],
      "text/plain": [
       "   age  height  weight\n",
       "2   20     165      65\n",
       "3   18     175      65"
      ]
     },
     "execution_count": 90,
     "metadata": {},
     "output_type": "execute_result"
    }
   ],
   "source": [
    "students[1:3] #抽取第1-2行数据，列的\"：\"可以省略不写"
   ]
  },
  {
   "cell_type": "markdown",
   "id": "231cb6de-3e17-48a7-acd4-0ce1a20721bd",
   "metadata": {},
   "source": [
    "#### 筛选数据"
   ]
  },
  {
   "cell_type": "code",
   "execution_count": 91,
   "id": "e33aaed7-5d8c-492f-b6f6-d7421b10ef18",
   "metadata": {},
   "outputs": [],
   "source": [
    "#筛选身高高于168的同学，并显示其身高体重\n",
    "mask = students['height'] >= 168"
   ]
  },
  {
   "cell_type": "code",
   "execution_count": 92,
   "id": "4dd48efc-4590-4838-924a-a1034492a0f5",
   "metadata": {},
   "outputs": [
    {
     "data": {
      "text/plain": [
       "1     True\n",
       "2    False\n",
       "3     True\n",
       "Name: height, dtype: bool"
      ]
     },
     "execution_count": 92,
     "metadata": {},
     "output_type": "execute_result"
    }
   ],
   "source": [
    "mask"
   ]
  },
  {
   "cell_type": "code",
   "execution_count": 93,
   "id": "cf30b92e-d18f-4ed1-bc7e-8d76f60a5353",
   "metadata": {},
   "outputs": [
    {
     "data": {
      "text/html": [
       "<div>\n",
       "<style scoped>\n",
       "    .dataframe tbody tr th:only-of-type {\n",
       "        vertical-align: middle;\n",
       "    }\n",
       "\n",
       "    .dataframe tbody tr th {\n",
       "        vertical-align: top;\n",
       "    }\n",
       "\n",
       "    .dataframe thead th {\n",
       "        text-align: right;\n",
       "    }\n",
       "</style>\n",
       "<table border=\"1\" class=\"dataframe\">\n",
       "  <thead>\n",
       "    <tr style=\"text-align: right;\">\n",
       "      <th></th>\n",
       "      <th>height</th>\n",
       "      <th>weight</th>\n",
       "    </tr>\n",
       "  </thead>\n",
       "  <tbody>\n",
       "    <tr>\n",
       "      <th>1</th>\n",
       "      <td>170</td>\n",
       "      <td>68</td>\n",
       "    </tr>\n",
       "    <tr>\n",
       "      <th>3</th>\n",
       "      <td>175</td>\n",
       "      <td>65</td>\n",
       "    </tr>\n",
       "  </tbody>\n",
       "</table>\n",
       "</div>"
      ],
      "text/plain": [
       "   height  weight\n",
       "1     170      68\n",
       "3     175      65"
      ]
     },
     "execution_count": 93,
     "metadata": {},
     "output_type": "execute_result"
    }
   ],
   "source": [
    "students.loc[mask,['height','weight']] #mask对象索引的第二行值为false，因此未被选中"
   ]
  },
  {
   "cell_type": "markdown",
   "id": "4ab320de-b893-443d-8475-5abfe557f85d",
   "metadata": {},
   "source": [
    "### 增加数据 ，增加学生信息\n",
    "Dataframe对象可以增加新的列，但是不能直接增加新的行，增加行需要将两个DataFrame对象合并实现"
   ]
  },
  {
   "cell_type": "code",
   "execution_count": 94,
   "id": "d494b77b-537b-4cd3-95ff-170299e381da",
   "metadata": {},
   "outputs": [
    {
     "data": {
      "text/html": [
       "<div>\n",
       "<style scoped>\n",
       "    .dataframe tbody tr th:only-of-type {\n",
       "        vertical-align: middle;\n",
       "    }\n",
       "\n",
       "    .dataframe tbody tr th {\n",
       "        vertical-align: top;\n",
       "    }\n",
       "\n",
       "    .dataframe thead th {\n",
       "        text-align: right;\n",
       "    }\n",
       "</style>\n",
       "<table border=\"1\" class=\"dataframe\">\n",
       "  <thead>\n",
       "    <tr style=\"text-align: right;\">\n",
       "      <th></th>\n",
       "      <th>age</th>\n",
       "      <th>height</th>\n",
       "      <th>weight</th>\n",
       "      <th>expense</th>\n",
       "    </tr>\n",
       "  </thead>\n",
       "  <tbody>\n",
       "    <tr>\n",
       "      <th>1</th>\n",
       "      <td>19</td>\n",
       "      <td>170</td>\n",
       "      <td>68</td>\n",
       "      <td>1500</td>\n",
       "    </tr>\n",
       "    <tr>\n",
       "      <th>2</th>\n",
       "      <td>20</td>\n",
       "      <td>165</td>\n",
       "      <td>65</td>\n",
       "      <td>1600</td>\n",
       "    </tr>\n",
       "    <tr>\n",
       "      <th>3</th>\n",
       "      <td>18</td>\n",
       "      <td>175</td>\n",
       "      <td>65</td>\n",
       "      <td>1200</td>\n",
       "    </tr>\n",
       "  </tbody>\n",
       "</table>\n",
       "</div>"
      ],
      "text/plain": [
       "   age  height  weight  expense\n",
       "1   19     170      68     1500\n",
       "2   20     165      65     1600\n",
       "3   18     175      65     1200"
      ]
     },
     "execution_count": 94,
     "metadata": {},
     "output_type": "execute_result"
    }
   ],
   "source": [
    "#列索引标签不存在：添加新列\n",
    "#列索引标签存在：修改列值\n",
    "\n",
    "students['expense'] = [1500,1600,1200] #增加学生月消费数据\n",
    "students "
   ]
  },
  {
   "cell_type": "code",
   "execution_count": 96,
   "id": "c0fe0f2b-85bf-4e9f-bbf5-69a62869b721",
   "metadata": {},
   "outputs": [
    {
     "data": {
      "text/html": [
       "<div>\n",
       "<style scoped>\n",
       "    .dataframe tbody tr th:only-of-type {\n",
       "        vertical-align: middle;\n",
       "    }\n",
       "\n",
       "    .dataframe tbody tr th {\n",
       "        vertical-align: top;\n",
       "    }\n",
       "\n",
       "    .dataframe thead th {\n",
       "        text-align: right;\n",
       "    }\n",
       "</style>\n",
       "<table border=\"1\" class=\"dataframe\">\n",
       "  <thead>\n",
       "    <tr style=\"text-align: right;\">\n",
       "      <th></th>\n",
       "      <th>age</th>\n",
       "      <th>height</th>\n",
       "      <th>weight</th>\n",
       "      <th>expense</th>\n",
       "    </tr>\n",
       "  </thead>\n",
       "  <tbody>\n",
       "    <tr>\n",
       "      <th>1</th>\n",
       "      <td>19</td>\n",
       "      <td>170</td>\n",
       "      <td>68</td>\n",
       "      <td>2500</td>\n",
       "    </tr>\n",
       "    <tr>\n",
       "      <th>2</th>\n",
       "      <td>20</td>\n",
       "      <td>165</td>\n",
       "      <td>65</td>\n",
       "      <td>2600</td>\n",
       "    </tr>\n",
       "    <tr>\n",
       "      <th>3</th>\n",
       "      <td>18</td>\n",
       "      <td>175</td>\n",
       "      <td>65</td>\n",
       "      <td>2200</td>\n",
       "    </tr>\n",
       "  </tbody>\n",
       "</table>\n",
       "</div>"
      ],
      "text/plain": [
       "   age  height  weight  expense\n",
       "1   19     170      68     2500\n",
       "2   20     165      65     2600\n",
       "3   18     175      65     2200"
      ]
     },
     "execution_count": 96,
     "metadata": {},
     "output_type": "execute_result"
    }
   ],
   "source": [
    "students['expense'] = [2500,2600,2200] #修改学生月消费数据\n",
    "students "
   ]
  },
  {
   "cell_type": "markdown",
   "id": "df496cea-1339-4a56-aae0-6ca65a997164",
   "metadata": {},
   "source": [
    "## 修改数据，修改学生信息"
   ]
  },
  {
   "cell_type": "code",
   "execution_count": 98,
   "id": "9bd1b537-b5c8-4fc8-817e-eeea4e913e4d",
   "metadata": {},
   "outputs": [
    {
     "data": {
      "text/html": [
       "<div>\n",
       "<style scoped>\n",
       "    .dataframe tbody tr th:only-of-type {\n",
       "        vertical-align: middle;\n",
       "    }\n",
       "\n",
       "    .dataframe tbody tr th {\n",
       "        vertical-align: top;\n",
       "    }\n",
       "\n",
       "    .dataframe thead th {\n",
       "        text-align: right;\n",
       "    }\n",
       "</style>\n",
       "<table border=\"1\" class=\"dataframe\">\n",
       "  <thead>\n",
       "    <tr style=\"text-align: right;\">\n",
       "      <th></th>\n",
       "      <th>age</th>\n",
       "      <th>height</th>\n",
       "      <th>weight</th>\n",
       "      <th>expense</th>\n",
       "    </tr>\n",
       "  </thead>\n",
       "  <tbody>\n",
       "    <tr>\n",
       "      <th>1</th>\n",
       "      <td>19</td>\n",
       "      <td>170</td>\n",
       "      <td>70</td>\n",
       "      <td>2500</td>\n",
       "    </tr>\n",
       "    <tr>\n",
       "      <th>2</th>\n",
       "      <td>20</td>\n",
       "      <td>165</td>\n",
       "      <td>70</td>\n",
       "      <td>2600</td>\n",
       "    </tr>\n",
       "    <tr>\n",
       "      <th>3</th>\n",
       "      <td>18</td>\n",
       "      <td>175</td>\n",
       "      <td>70</td>\n",
       "      <td>2200</td>\n",
       "    </tr>\n",
       "  </tbody>\n",
       "</table>\n",
       "</div>"
      ],
      "text/plain": [
       "   age  height  weight  expense\n",
       "1   19     170      70     2500\n",
       "2   20     165      70     2600\n",
       "3   18     175      70     2200"
      ]
     },
     "execution_count": 98,
     "metadata": {},
     "output_type": "execute_result"
    }
   ],
   "source": [
    "students['weight'] = 70 #整列的所有体重都改为70\n",
    "students"
   ]
  },
  {
   "cell_type": "code",
   "execution_count": 99,
   "id": "d1684dc4-ddbf-4388-8bb1-a32d3567ecd2",
   "metadata": {},
   "outputs": [
    {
     "data": {
      "text/html": [
       "<div>\n",
       "<style scoped>\n",
       "    .dataframe tbody tr th:only-of-type {\n",
       "        vertical-align: middle;\n",
       "    }\n",
       "\n",
       "    .dataframe tbody tr th {\n",
       "        vertical-align: top;\n",
       "    }\n",
       "\n",
       "    .dataframe thead th {\n",
       "        text-align: right;\n",
       "    }\n",
       "</style>\n",
       "<table border=\"1\" class=\"dataframe\">\n",
       "  <thead>\n",
       "    <tr style=\"text-align: right;\">\n",
       "      <th></th>\n",
       "      <th>age</th>\n",
       "      <th>height</th>\n",
       "      <th>weight</th>\n",
       "      <th>expense</th>\n",
       "    </tr>\n",
       "  </thead>\n",
       "  <tbody>\n",
       "    <tr>\n",
       "      <th>1</th>\n",
       "      <td>21</td>\n",
       "      <td>188</td>\n",
       "      <td>88</td>\n",
       "      <td>2000</td>\n",
       "    </tr>\n",
       "    <tr>\n",
       "      <th>2</th>\n",
       "      <td>20</td>\n",
       "      <td>165</td>\n",
       "      <td>70</td>\n",
       "      <td>2600</td>\n",
       "    </tr>\n",
       "    <tr>\n",
       "      <th>3</th>\n",
       "      <td>18</td>\n",
       "      <td>175</td>\n",
       "      <td>70</td>\n",
       "      <td>2200</td>\n",
       "    </tr>\n",
       "  </tbody>\n",
       "</table>\n",
       "</div>"
      ],
      "text/plain": [
       "   age  height  weight  expense\n",
       "1   21     188      88     2000\n",
       "2   20     165      70     2600\n",
       "3   18     175      70     2200"
      ]
     },
     "execution_count": 99,
     "metadata": {},
     "output_type": "execute_result"
    }
   ],
   "source": [
    "students.loc[1,:] = [21,188,88,2000] #修改1号学生的数据，因为列的“：”可以不写，所以同students.loc[1] = [21,188,88,2010]\n",
    "students"
   ]
  },
  {
   "cell_type": "code",
   "execution_count": 101,
   "id": "5531c0db-8615-4568-b7d6-951151ed1d49",
   "metadata": {},
   "outputs": [
    {
     "data": {
      "text/html": [
       "<div>\n",
       "<style scoped>\n",
       "    .dataframe tbody tr th:only-of-type {\n",
       "        vertical-align: middle;\n",
       "    }\n",
       "\n",
       "    .dataframe tbody tr th {\n",
       "        vertical-align: top;\n",
       "    }\n",
       "\n",
       "    .dataframe thead th {\n",
       "        text-align: right;\n",
       "    }\n",
       "</style>\n",
       "<table border=\"1\" class=\"dataframe\">\n",
       "  <thead>\n",
       "    <tr style=\"text-align: right;\">\n",
       "      <th></th>\n",
       "      <th>age</th>\n",
       "      <th>height</th>\n",
       "      <th>weight</th>\n",
       "      <th>expense</th>\n",
       "    </tr>\n",
       "  </thead>\n",
       "  <tbody>\n",
       "    <tr>\n",
       "      <th>1</th>\n",
       "      <td>21</td>\n",
       "      <td>188</td>\n",
       "      <td>88</td>\n",
       "      <td>2010</td>\n",
       "    </tr>\n",
       "    <tr>\n",
       "      <th>2</th>\n",
       "      <td>20</td>\n",
       "      <td>165</td>\n",
       "      <td>70</td>\n",
       "      <td>2500</td>\n",
       "    </tr>\n",
       "    <tr>\n",
       "      <th>3</th>\n",
       "      <td>18</td>\n",
       "      <td>175</td>\n",
       "      <td>70</td>\n",
       "      <td>2200</td>\n",
       "    </tr>\n",
       "  </tbody>\n",
       "</table>\n",
       "</div>"
      ],
      "text/plain": [
       "   age  height  weight  expense\n",
       "1   21     188      88     2010\n",
       "2   20     165      70     2500\n",
       "3   18     175      70     2200"
      ]
     },
     "execution_count": 101,
     "metadata": {},
     "output_type": "execute_result"
    }
   ],
   "source": [
    "#筛选不合理信息+重新赋值\n",
    "students.loc[students['expense']>2500,'expense'] = 2500\n",
    "students"
   ]
  },
  {
   "cell_type": "markdown",
   "id": "60bf29ea-5a8b-4f6d-9df0-08f949eff8aa",
   "metadata": {},
   "source": [
    "### 删除数据\n",
    "xxx.drop(索引,axis=0) #删除行\n",
    "xxx.drop('索引',axis = 1) #删除列\n",
    "xxx.drop(索引,axis=0/1,inplace= True) #删除原数据对象"
   ]
  },
  {
   "cell_type": "code",
   "execution_count": 104,
   "id": "8cbbf069-a583-4550-818e-3207c93f1043",
   "metadata": {},
   "outputs": [
    {
     "data": {
      "text/html": [
       "<div>\n",
       "<style scoped>\n",
       "    .dataframe tbody tr th:only-of-type {\n",
       "        vertical-align: middle;\n",
       "    }\n",
       "\n",
       "    .dataframe tbody tr th {\n",
       "        vertical-align: top;\n",
       "    }\n",
       "\n",
       "    .dataframe thead th {\n",
       "        text-align: right;\n",
       "    }\n",
       "</style>\n",
       "<table border=\"1\" class=\"dataframe\">\n",
       "  <thead>\n",
       "    <tr style=\"text-align: right;\">\n",
       "      <th></th>\n",
       "      <th>age</th>\n",
       "      <th>height</th>\n",
       "      <th>weight</th>\n",
       "      <th>expense</th>\n",
       "    </tr>\n",
       "  </thead>\n",
       "  <tbody>\n",
       "    <tr>\n",
       "      <th>2</th>\n",
       "      <td>20</td>\n",
       "      <td>165</td>\n",
       "      <td>70</td>\n",
       "      <td>2500</td>\n",
       "    </tr>\n",
       "    <tr>\n",
       "      <th>3</th>\n",
       "      <td>18</td>\n",
       "      <td>175</td>\n",
       "      <td>70</td>\n",
       "      <td>2200</td>\n",
       "    </tr>\n",
       "  </tbody>\n",
       "</table>\n",
       "</div>"
      ],
      "text/plain": [
       "   age  height  weight  expense\n",
       "2   20     165      70     2500\n",
       "3   18     175      70     2200"
      ]
     },
     "execution_count": 104,
     "metadata": {},
     "output_type": "execute_result"
    }
   ],
   "source": [
    "#删除一行元素\n",
    "students.drop(1,axis=0) #axis=0表示行,缺省，不修改原始数据对象,同students.drop(1)"
   ]
  },
  {
   "cell_type": "code",
   "execution_count": 106,
   "id": "2d1fdf56-49cc-4a75-942d-1acfd492f488",
   "metadata": {},
   "outputs": [
    {
     "data": {
      "text/html": [
       "<div>\n",
       "<style scoped>\n",
       "    .dataframe tbody tr th:only-of-type {\n",
       "        vertical-align: middle;\n",
       "    }\n",
       "\n",
       "    .dataframe tbody tr th {\n",
       "        vertical-align: top;\n",
       "    }\n",
       "\n",
       "    .dataframe thead th {\n",
       "        text-align: right;\n",
       "    }\n",
       "</style>\n",
       "<table border=\"1\" class=\"dataframe\">\n",
       "  <thead>\n",
       "    <tr style=\"text-align: right;\">\n",
       "      <th></th>\n",
       "      <th>age</th>\n",
       "      <th>height</th>\n",
       "      <th>weight</th>\n",
       "    </tr>\n",
       "  </thead>\n",
       "  <tbody>\n",
       "    <tr>\n",
       "      <th>1</th>\n",
       "      <td>21</td>\n",
       "      <td>188</td>\n",
       "      <td>88</td>\n",
       "    </tr>\n",
       "    <tr>\n",
       "      <th>2</th>\n",
       "      <td>20</td>\n",
       "      <td>165</td>\n",
       "      <td>70</td>\n",
       "    </tr>\n",
       "    <tr>\n",
       "      <th>3</th>\n",
       "      <td>18</td>\n",
       "      <td>175</td>\n",
       "      <td>70</td>\n",
       "    </tr>\n",
       "  </tbody>\n",
       "</table>\n",
       "</div>"
      ],
      "text/plain": [
       "   age  height  weight\n",
       "1   21     188      88\n",
       "2   20     165      70\n",
       "3   18     175      70"
      ]
     },
     "execution_count": 106,
     "metadata": {},
     "output_type": "execute_result"
    }
   ],
   "source": [
    "#删除一列数据\n",
    "students.drop('expense',axis=1) #删除月消费那一列，axis=1表示列"
   ]
  },
  {
   "cell_type": "code",
   "execution_count": 108,
   "id": "25389fb2-72dd-4ff8-b089-d2294eb4f84a",
   "metadata": {},
   "outputs": [
    {
     "data": {
      "text/html": [
       "<div>\n",
       "<style scoped>\n",
       "    .dataframe tbody tr th:only-of-type {\n",
       "        vertical-align: middle;\n",
       "    }\n",
       "\n",
       "    .dataframe tbody tr th {\n",
       "        vertical-align: top;\n",
       "    }\n",
       "\n",
       "    .dataframe thead th {\n",
       "        text-align: right;\n",
       "    }\n",
       "</style>\n",
       "<table border=\"1\" class=\"dataframe\">\n",
       "  <thead>\n",
       "    <tr style=\"text-align: right;\">\n",
       "      <th></th>\n",
       "      <th>age</th>\n",
       "      <th>height</th>\n",
       "      <th>weight</th>\n",
       "      <th>expense</th>\n",
       "    </tr>\n",
       "  </thead>\n",
       "  <tbody>\n",
       "    <tr>\n",
       "      <th>3</th>\n",
       "      <td>18</td>\n",
       "      <td>175</td>\n",
       "      <td>70</td>\n",
       "      <td>2200</td>\n",
       "    </tr>\n",
       "  </tbody>\n",
       "</table>\n",
       "</div>"
      ],
      "text/plain": [
       "   age  height  weight  expense\n",
       "3   18     175      70     2200"
      ]
     },
     "execution_count": 108,
     "metadata": {},
     "output_type": "execute_result"
    }
   ],
   "source": [
    "#删除多行数据\n",
    "students.drop([1,2]) #axis=0"
   ]
  },
  {
   "cell_type": "code",
   "execution_count": 114,
   "id": "2825e424-2666-4b40-8518-7880431b41a1",
   "metadata": {},
   "outputs": [],
   "source": [
    "#删除原始数据\n",
    "students.drop(['age','weight'],axis = 1,inplace = True)"
   ]
  },
  {
   "cell_type": "code",
   "execution_count": 115,
   "id": "6cac1b62-e90a-445b-ac5d-9e5e282ae838",
   "metadata": {},
   "outputs": [
    {
     "data": {
      "text/html": [
       "<div>\n",
       "<style scoped>\n",
       "    .dataframe tbody tr th:only-of-type {\n",
       "        vertical-align: middle;\n",
       "    }\n",
       "\n",
       "    .dataframe tbody tr th {\n",
       "        vertical-align: top;\n",
       "    }\n",
       "\n",
       "    .dataframe thead th {\n",
       "        text-align: right;\n",
       "    }\n",
       "</style>\n",
       "<table border=\"1\" class=\"dataframe\">\n",
       "  <thead>\n",
       "    <tr style=\"text-align: right;\">\n",
       "      <th></th>\n",
       "      <th>height</th>\n",
       "      <th>expense</th>\n",
       "    </tr>\n",
       "  </thead>\n",
       "  <tbody>\n",
       "    <tr>\n",
       "      <th>1</th>\n",
       "      <td>188</td>\n",
       "      <td>2010</td>\n",
       "    </tr>\n",
       "    <tr>\n",
       "      <th>2</th>\n",
       "      <td>165</td>\n",
       "      <td>2500</td>\n",
       "    </tr>\n",
       "    <tr>\n",
       "      <th>3</th>\n",
       "      <td>175</td>\n",
       "      <td>2200</td>\n",
       "    </tr>\n",
       "  </tbody>\n",
       "</table>\n",
       "</div>"
      ],
      "text/plain": [
       "   height  expense\n",
       "1     188     2010\n",
       "2     165     2500\n",
       "3     175     2200"
      ]
     },
     "execution_count": 115,
     "metadata": {},
     "output_type": "execute_result"
    }
   ],
   "source": [
    "students"
   ]
  },
  {
   "cell_type": "markdown",
   "id": "655926b8-b13e-4253-8dd1-209b3584a3a7",
   "metadata": {},
   "source": [
    "## 课后作业"
   ]
  },
  {
   "cell_type": "markdown",
   "id": "d5bb6848-0fdf-4db0-8f68-0391d03fa2f6",
   "metadata": {},
   "source": [
    "####1. 创建并访问DataFrame对象。\n",
    "\n",
    "a) 创建3×3DataFrame数据对象：数据内容为1-9；行索引为字符a，b，c；\n",
    "\n",
    "列索引为字符串one，two，three；\n",
    "\n",
    "b) 查询列索引为two和three两列数据；\n",
    "\n",
    "c) 查询第0行、第2行、第0列、第2列数据；\n",
    "\n",
    "d) 筛选第1列中值大于2的所有行数据，另存为data1对象；\n",
    "\n",
    "e) 为data1添加一列数据，列索引为four，值都为10；\n",
    "\n",
    "f) 将data1所有值大于9的数据修改为8；\n",
    "\n",
    "g) 删除data1中第0行和第1行数据。\n",
    "\n",
    "【提示】\n",
    "\n",
    "1）生成数据，使用numpy的arange()函数和reshape()函数；\n",
    "\n",
    "2）使用 data>9生成布尔型的DataFrame，用于整个DataFrame的数据过滤\n"
   ]
  },
  {
   "cell_type": "code",
   "execution_count": 120,
   "id": "5af37460-8618-4653-ae85-724d7d1fc1bd",
   "metadata": {},
   "outputs": [
    {
     "data": {
      "text/html": [
       "<div>\n",
       "<style scoped>\n",
       "    .dataframe tbody tr th:only-of-type {\n",
       "        vertical-align: middle;\n",
       "    }\n",
       "\n",
       "    .dataframe tbody tr th {\n",
       "        vertical-align: top;\n",
       "    }\n",
       "\n",
       "    .dataframe thead th {\n",
       "        text-align: right;\n",
       "    }\n",
       "</style>\n",
       "<table border=\"1\" class=\"dataframe\">\n",
       "  <thead>\n",
       "    <tr style=\"text-align: right;\">\n",
       "      <th></th>\n",
       "      <th>one</th>\n",
       "      <th>two</th>\n",
       "      <th>three</th>\n",
       "    </tr>\n",
       "  </thead>\n",
       "  <tbody>\n",
       "    <tr>\n",
       "      <th>a</th>\n",
       "      <td>19</td>\n",
       "      <td>170</td>\n",
       "      <td>68</td>\n",
       "    </tr>\n",
       "    <tr>\n",
       "      <th>b</th>\n",
       "      <td>20</td>\n",
       "      <td>165</td>\n",
       "      <td>65</td>\n",
       "    </tr>\n",
       "    <tr>\n",
       "      <th>c</th>\n",
       "      <td>18</td>\n",
       "      <td>175</td>\n",
       "      <td>65</td>\n",
       "    </tr>\n",
       "  </tbody>\n",
       "</table>\n",
       "</div>"
      ],
      "text/plain": [
       "   one  two  three\n",
       "a   19  170     68\n",
       "b   20  165     65\n",
       "c   18  175     65"
      ]
     },
     "execution_count": 120,
     "metadata": {},
     "output_type": "execute_result"
    }
   ],
   "source": [
    "#a) 创建3×3DataFrame数据对象：数据内容为1-9；行索引为字符a，b，c；列索引为字符串one，two，three；\n",
    "data1 = [[1,2,3],[4,5,6],[7,8,9]]\n",
    "afterclass_df = DataFrame(data,\n",
    "                          index = ['a','b','c'],\n",
    "                          columns = ['one','two','three'])\n",
    "afterclass_df"
   ]
  },
  {
   "cell_type": "code",
   "execution_count": 122,
   "id": "1396fe79-00df-4b11-9078-87cf6af3d6a5",
   "metadata": {},
   "outputs": [
    {
     "data": {
      "text/html": [
       "<div>\n",
       "<style scoped>\n",
       "    .dataframe tbody tr th:only-of-type {\n",
       "        vertical-align: middle;\n",
       "    }\n",
       "\n",
       "    .dataframe tbody tr th {\n",
       "        vertical-align: top;\n",
       "    }\n",
       "\n",
       "    .dataframe thead th {\n",
       "        text-align: right;\n",
       "    }\n",
       "</style>\n",
       "<table border=\"1\" class=\"dataframe\">\n",
       "  <thead>\n",
       "    <tr style=\"text-align: right;\">\n",
       "      <th></th>\n",
       "      <th>two</th>\n",
       "      <th>three</th>\n",
       "    </tr>\n",
       "  </thead>\n",
       "  <tbody>\n",
       "    <tr>\n",
       "      <th>a</th>\n",
       "      <td>170</td>\n",
       "      <td>68</td>\n",
       "    </tr>\n",
       "    <tr>\n",
       "      <th>b</th>\n",
       "      <td>165</td>\n",
       "      <td>65</td>\n",
       "    </tr>\n",
       "    <tr>\n",
       "      <th>c</th>\n",
       "      <td>175</td>\n",
       "      <td>65</td>\n",
       "    </tr>\n",
       "  </tbody>\n",
       "</table>\n",
       "</div>"
      ],
      "text/plain": [
       "   two  three\n",
       "a  170     68\n",
       "b  165     65\n",
       "c  175     65"
      ]
     },
     "execution_count": 122,
     "metadata": {},
     "output_type": "execute_result"
    }
   ],
   "source": [
    "#b) 查询列索引为two和three两列数据；\n",
    "afterclass_df[['two','three']]"
   ]
  },
  {
   "cell_type": "code",
   "execution_count": 123,
   "id": "543768bc-304f-4b6b-a8bb-8815b686e7fd",
   "metadata": {},
   "outputs": [
    {
     "data": {
      "text/html": [
       "<div>\n",
       "<style scoped>\n",
       "    .dataframe tbody tr th:only-of-type {\n",
       "        vertical-align: middle;\n",
       "    }\n",
       "\n",
       "    .dataframe tbody tr th {\n",
       "        vertical-align: top;\n",
       "    }\n",
       "\n",
       "    .dataframe thead th {\n",
       "        text-align: right;\n",
       "    }\n",
       "</style>\n",
       "<table border=\"1\" class=\"dataframe\">\n",
       "  <thead>\n",
       "    <tr style=\"text-align: right;\">\n",
       "      <th></th>\n",
       "      <th>one</th>\n",
       "      <th>three</th>\n",
       "    </tr>\n",
       "  </thead>\n",
       "  <tbody>\n",
       "    <tr>\n",
       "      <th>a</th>\n",
       "      <td>19</td>\n",
       "      <td>68</td>\n",
       "    </tr>\n",
       "    <tr>\n",
       "      <th>c</th>\n",
       "      <td>18</td>\n",
       "      <td>65</td>\n",
       "    </tr>\n",
       "  </tbody>\n",
       "</table>\n",
       "</div>"
      ],
      "text/plain": [
       "   one  three\n",
       "a   19     68\n",
       "c   18     65"
      ]
     },
     "execution_count": 123,
     "metadata": {},
     "output_type": "execute_result"
    }
   ],
   "source": [
    "#c) 查询第0行、第2行、第0列、第2列数据；\n",
    "afterclass_df.iloc[[0,2],[0,2]]"
   ]
  },
  {
   "cell_type": "code",
   "execution_count": 134,
   "id": "a324c3eb-f447-41c1-8328-ab6bf97535da",
   "metadata": {},
   "outputs": [
    {
     "data": {
      "text/html": [
       "<div>\n",
       "<style scoped>\n",
       "    .dataframe tbody tr th:only-of-type {\n",
       "        vertical-align: middle;\n",
       "    }\n",
       "\n",
       "    .dataframe tbody tr th {\n",
       "        vertical-align: top;\n",
       "    }\n",
       "\n",
       "    .dataframe thead th {\n",
       "        text-align: right;\n",
       "    }\n",
       "</style>\n",
       "<table border=\"1\" class=\"dataframe\">\n",
       "  <thead>\n",
       "    <tr style=\"text-align: right;\">\n",
       "      <th></th>\n",
       "      <th>one</th>\n",
       "      <th>two</th>\n",
       "      <th>three</th>\n",
       "    </tr>\n",
       "  </thead>\n",
       "  <tbody>\n",
       "    <tr>\n",
       "      <th>a</th>\n",
       "      <td>19</td>\n",
       "      <td>170</td>\n",
       "      <td>68</td>\n",
       "    </tr>\n",
       "    <tr>\n",
       "      <th>b</th>\n",
       "      <td>20</td>\n",
       "      <td>165</td>\n",
       "      <td>65</td>\n",
       "    </tr>\n",
       "    <tr>\n",
       "      <th>c</th>\n",
       "      <td>18</td>\n",
       "      <td>175</td>\n",
       "      <td>65</td>\n",
       "    </tr>\n",
       "  </tbody>\n",
       "</table>\n",
       "</div>"
      ],
      "text/plain": [
       "   one  two  three\n",
       "a   19  170     68\n",
       "b   20  165     65\n",
       "c   18  175     65"
      ]
     },
     "execution_count": 134,
     "metadata": {},
     "output_type": "execute_result"
    }
   ],
   "source": [
    "#d) 筛选第1列中值大于2的所有行数据，另存为data1对象；\n",
    "data1 = afterclass_df[afterclass_df['one']>2] #使用列名筛选\n",
    "#同data1=afterclass_df[afterclass_df.iloc[:,0]>2]\n",
    "data1"
   ]
  },
  {
   "cell_type": "code",
   "execution_count": 135,
   "id": "91226709-8988-4d36-9348-c3973d6417d9",
   "metadata": {},
   "outputs": [
    {
     "data": {
      "text/html": [
       "<div>\n",
       "<style scoped>\n",
       "    .dataframe tbody tr th:only-of-type {\n",
       "        vertical-align: middle;\n",
       "    }\n",
       "\n",
       "    .dataframe tbody tr th {\n",
       "        vertical-align: top;\n",
       "    }\n",
       "\n",
       "    .dataframe thead th {\n",
       "        text-align: right;\n",
       "    }\n",
       "</style>\n",
       "<table border=\"1\" class=\"dataframe\">\n",
       "  <thead>\n",
       "    <tr style=\"text-align: right;\">\n",
       "      <th></th>\n",
       "      <th>one</th>\n",
       "      <th>two</th>\n",
       "      <th>three</th>\n",
       "      <th>four</th>\n",
       "    </tr>\n",
       "  </thead>\n",
       "  <tbody>\n",
       "    <tr>\n",
       "      <th>a</th>\n",
       "      <td>19</td>\n",
       "      <td>170</td>\n",
       "      <td>68</td>\n",
       "      <td>10</td>\n",
       "    </tr>\n",
       "    <tr>\n",
       "      <th>b</th>\n",
       "      <td>20</td>\n",
       "      <td>165</td>\n",
       "      <td>65</td>\n",
       "      <td>10</td>\n",
       "    </tr>\n",
       "    <tr>\n",
       "      <th>c</th>\n",
       "      <td>18</td>\n",
       "      <td>175</td>\n",
       "      <td>65</td>\n",
       "      <td>10</td>\n",
       "    </tr>\n",
       "  </tbody>\n",
       "</table>\n",
       "</div>"
      ],
      "text/plain": [
       "   one  two  three  four\n",
       "a   19  170     68    10\n",
       "b   20  165     65    10\n",
       "c   18  175     65    10"
      ]
     },
     "execution_count": 135,
     "metadata": {},
     "output_type": "execute_result"
    }
   ],
   "source": [
    "#e) 为data1添加一列数据，列索引为four，值都为10；\n",
    "data1['four'] = 10\n",
    "data1"
   ]
  },
  {
   "cell_type": "code",
   "execution_count": null,
   "id": "e11c6786-2597-4721-8014-6262fb661d3a",
   "metadata": {},
   "outputs": [],
   "source": [
    "#f) 将data1所有值大于9的数据修改为8；\n",
    "#使用df.where()\n",
    "data1 = data1.where(data <= 9,8) #data1<=9返回一个bool形dataframe，Ture保留原值，false位置替换为8"
   ]
  },
  {
   "cell_type": "code",
   "execution_count": 136,
   "id": "8709cae5-a1ef-4295-a273-4add515a3b40",
   "metadata": {},
   "outputs": [],
   "source": [
    "#使用df.mask()\n",
    "data1 = data1.mask(data1 >9,8)"
   ]
  },
  {
   "cell_type": "code",
   "execution_count": 137,
   "id": "c946fa98-b6fd-4762-88f4-fa37b146362e",
   "metadata": {},
   "outputs": [
    {
     "data": {
      "text/html": [
       "<div>\n",
       "<style scoped>\n",
       "    .dataframe tbody tr th:only-of-type {\n",
       "        vertical-align: middle;\n",
       "    }\n",
       "\n",
       "    .dataframe tbody tr th {\n",
       "        vertical-align: top;\n",
       "    }\n",
       "\n",
       "    .dataframe thead th {\n",
       "        text-align: right;\n",
       "    }\n",
       "</style>\n",
       "<table border=\"1\" class=\"dataframe\">\n",
       "  <thead>\n",
       "    <tr style=\"text-align: right;\">\n",
       "      <th></th>\n",
       "      <th>one</th>\n",
       "      <th>two</th>\n",
       "      <th>three</th>\n",
       "      <th>four</th>\n",
       "    </tr>\n",
       "  </thead>\n",
       "  <tbody>\n",
       "    <tr>\n",
       "      <th>a</th>\n",
       "      <td>8</td>\n",
       "      <td>8</td>\n",
       "      <td>8</td>\n",
       "      <td>8</td>\n",
       "    </tr>\n",
       "    <tr>\n",
       "      <th>b</th>\n",
       "      <td>8</td>\n",
       "      <td>8</td>\n",
       "      <td>8</td>\n",
       "      <td>8</td>\n",
       "    </tr>\n",
       "    <tr>\n",
       "      <th>c</th>\n",
       "      <td>8</td>\n",
       "      <td>8</td>\n",
       "      <td>8</td>\n",
       "      <td>8</td>\n",
       "    </tr>\n",
       "  </tbody>\n",
       "</table>\n",
       "</div>"
      ],
      "text/plain": [
       "   one  two  three  four\n",
       "a    8    8      8     8\n",
       "b    8    8      8     8\n",
       "c    8    8      8     8"
      ]
     },
     "execution_count": 137,
     "metadata": {},
     "output_type": "execute_result"
    }
   ],
   "source": [
    "data1"
   ]
  },
  {
   "cell_type": "code",
   "execution_count": 140,
   "id": "eaeca158-e494-491e-bcee-467c45d2369f",
   "metadata": {},
   "outputs": [
    {
     "data": {
      "text/html": [
       "<div>\n",
       "<style scoped>\n",
       "    .dataframe tbody tr th:only-of-type {\n",
       "        vertical-align: middle;\n",
       "    }\n",
       "\n",
       "    .dataframe tbody tr th {\n",
       "        vertical-align: top;\n",
       "    }\n",
       "\n",
       "    .dataframe thead th {\n",
       "        text-align: right;\n",
       "    }\n",
       "</style>\n",
       "<table border=\"1\" class=\"dataframe\">\n",
       "  <thead>\n",
       "    <tr style=\"text-align: right;\">\n",
       "      <th></th>\n",
       "      <th>one</th>\n",
       "      <th>two</th>\n",
       "      <th>three</th>\n",
       "      <th>four</th>\n",
       "    </tr>\n",
       "  </thead>\n",
       "  <tbody>\n",
       "    <tr>\n",
       "      <th>c</th>\n",
       "      <td>8</td>\n",
       "      <td>8</td>\n",
       "      <td>8</td>\n",
       "      <td>8</td>\n",
       "    </tr>\n",
       "  </tbody>\n",
       "</table>\n",
       "</div>"
      ],
      "text/plain": [
       "   one  two  three  four\n",
       "c    8    8      8     8"
      ]
     },
     "execution_count": 140,
     "metadata": {},
     "output_type": "execute_result"
    }
   ],
   "source": [
    "#g) 删除data1中第0行和第1行数据。\n",
    "data1.drop(['a','b'],axis=0)"
   ]
  },
  {
   "cell_type": "code",
   "execution_count": null,
   "id": "c9cc96d6-2469-45d6-8daa-aac0b8b406f7",
   "metadata": {},
   "outputs": [],
   "source": []
  }
 ],
 "metadata": {
  "kernelspec": {
   "display_name": "Python 3 (ipykernel)",
   "language": "python",
   "name": "python3"
  },
  "language_info": {
   "codemirror_mode": {
    "name": "ipython",
    "version": 3
   },
   "file_extension": ".py",
   "mimetype": "text/x-python",
   "name": "python",
   "nbconvert_exporter": "python",
   "pygments_lexer": "ipython3",
   "version": "3.12.4"
  }
 },
 "nbformat": 4,
 "nbformat_minor": 5
}
