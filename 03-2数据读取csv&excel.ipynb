{
 "cells": [
  {
   "cell_type": "markdown",
   "id": "a01babb9-a8ae-4b27-b6b7-5ecaeec4d471",
   "metadata": {},
   "source": [
    "# 读取CSV文件"
   ]
  },
  {
   "cell_type": "code",
   "execution_count": 41,
   "id": "4b1cbcbb-f504-4222-934e-52f11fe13af8",
   "metadata": {},
   "outputs": [],
   "source": [
    "import pandas as pd\n",
    "import numpy as np\n",
    "from pandas import Series,DataFrame#方便使用Series和DataFrame将其引入本地命名空间"
   ]
  },
  {
   "cell_type": "code",
   "execution_count": 32,
   "id": "0696ef6a-6709-4d8f-b946-96527a120bcc",
   "metadata": {},
   "outputs": [
    {
     "data": {
      "text/html": [
       "<div>\n",
       "<style scoped>\n",
       "    .dataframe tbody tr th:only-of-type {\n",
       "        vertical-align: middle;\n",
       "    }\n",
       "\n",
       "    .dataframe tbody tr th {\n",
       "        vertical-align: top;\n",
       "    }\n",
       "\n",
       "    .dataframe thead th {\n",
       "        text-align: right;\n",
       "    }\n",
       "</style>\n",
       "<table border=\"1\" class=\"dataframe\">\n",
       "  <thead>\n",
       "    <tr style=\"text-align: right;\">\n",
       "      <th></th>\n",
       "      <th>性别</th>\n",
       "      <th>年龄</th>\n",
       "      <th>身高</th>\n",
       "      <th>体重</th>\n",
       "      <th>省份</th>\n",
       "      <th>成绩</th>\n",
       "    </tr>\n",
       "  </thead>\n",
       "  <tbody>\n",
       "    <tr>\n",
       "      <th>0</th>\n",
       "      <td>femal</td>\n",
       "      <td>22</td>\n",
       "      <td>166</td>\n",
       "      <td>52</td>\n",
       "      <td>HaiNnan</td>\n",
       "      <td>88</td>\n",
       "    </tr>\n",
       "    <tr>\n",
       "      <th>1</th>\n",
       "      <td>femal</td>\n",
       "      <td>18</td>\n",
       "      <td>175</td>\n",
       "      <td>66</td>\n",
       "      <td>ChongQing</td>\n",
       "      <td>99</td>\n",
       "    </tr>\n",
       "    <tr>\n",
       "      <th>2</th>\n",
       "      <td>male</td>\n",
       "      <td>22</td>\n",
       "      <td>180</td>\n",
       "      <td>62</td>\n",
       "      <td>FuJian</td>\n",
       "      <td>57</td>\n",
       "    </tr>\n",
       "    <tr>\n",
       "      <th>3</th>\n",
       "      <td>male</td>\n",
       "      <td>20</td>\n",
       "      <td>177</td>\n",
       "      <td>72</td>\n",
       "      <td>LiaoNing</td>\n",
       "      <td>79</td>\n",
       "    </tr>\n",
       "    <tr>\n",
       "      <th>4</th>\n",
       "      <td>male</td>\n",
       "      <td>20</td>\n",
       "      <td>172</td>\n",
       "      <td>74</td>\n",
       "      <td>ShanDong</td>\n",
       "      <td>91</td>\n",
       "    </tr>\n",
       "  </tbody>\n",
       "</table>\n",
       "</div>"
      ],
      "text/plain": [
       "      性别  年龄   身高  体重         省份  成绩\n",
       "0  femal  22  166  52    HaiNnan  88\n",
       "1  femal  18  175  66  ChongQing  99\n",
       "2   male  22  180  62     FuJian  57\n",
       "3   male  20  177  72   LiaoNing  79\n",
       "4   male  20  172  74   ShanDong  91"
      ]
     },
     "execution_count": 32,
     "metadata": {},
     "output_type": "execute_result"
    }
   ],
   "source": [
    "#数据文件读写，从student2.txt中读取数据保存至DataFrame对象\n",
    "col_name = ['性别','年龄','身高','体重','省份','成绩']\n",
    "student = pd.read_csv(r\"C:\\Users\\Administrator\\Desktop\\联邦学习\\students1.txt\",names=col_name)\n",
    "student"
   ]
  },
  {
   "cell_type": "code",
   "execution_count": 33,
   "id": "e5f9b826-abc2-47bf-bfab-3fdaae6d61d4",
   "metadata": {},
   "outputs": [
    {
     "data": {
      "text/html": [
       "<div>\n",
       "<style scoped>\n",
       "    .dataframe tbody tr th:only-of-type {\n",
       "        vertical-align: middle;\n",
       "    }\n",
       "\n",
       "    .dataframe tbody tr th {\n",
       "        vertical-align: top;\n",
       "    }\n",
       "\n",
       "    .dataframe thead th {\n",
       "        text-align: right;\n",
       "    }\n",
       "</style>\n",
       "<table border=\"1\" class=\"dataframe\">\n",
       "  <thead>\n",
       "    <tr style=\"text-align: right;\">\n",
       "      <th></th>\n",
       "      <th>性别</th>\n",
       "      <th>年龄</th>\n",
       "      <th>身高</th>\n",
       "      <th>体重</th>\n",
       "      <th>省份</th>\n",
       "      <th>成绩</th>\n",
       "    </tr>\n",
       "  </thead>\n",
       "  <tbody>\n",
       "    <tr>\n",
       "      <th>0</th>\n",
       "      <td>femal</td>\n",
       "      <td>22</td>\n",
       "      <td>166</td>\n",
       "      <td>52</td>\n",
       "      <td>HaiNnan</td>\n",
       "      <td>88</td>\n",
       "    </tr>\n",
       "    <tr>\n",
       "      <th>1</th>\n",
       "      <td>femal</td>\n",
       "      <td>18</td>\n",
       "      <td>175</td>\n",
       "      <td>66</td>\n",
       "      <td>ChongQing</td>\n",
       "      <td>99</td>\n",
       "    </tr>\n",
       "  </tbody>\n",
       "</table>\n",
       "</div>"
      ],
      "text/plain": [
       "      性别  年龄   身高  体重         省份  成绩\n",
       "0  femal  22  166  52    HaiNnan  88\n",
       "1  femal  18  175  66  ChongQing  99"
      ]
     },
     "execution_count": 33,
     "metadata": {},
     "output_type": "execute_result"
    }
   ],
   "source": [
    "#查看数据\n",
    "student[:2]"
   ]
  },
  {
   "cell_type": "markdown",
   "id": "54df0748-421a-477d-9309-249e8d9d585a",
   "metadata": {},
   "source": [
    "## 例题3-7 \n",
    "新建DataFrame对象stu,并将数据保存到out.csv文件"
   ]
  },
  {
   "cell_type": "code",
   "execution_count": 36,
   "id": "5f98ad96-2244-4d37-b4ec-50f85fd672fb",
   "metadata": {},
   "outputs": [],
   "source": [
    "data = [[19,68,170],[20,65,168],[18,65,175]]\n",
    "stu = DataFrame(data,\n",
    "               index = [1,2,3],\n",
    "               columns = ['age','height','weight'])"
   ]
  },
  {
   "cell_type": "code",
   "execution_count": 37,
   "id": "02353793-a68a-4aa3-b8b6-16298a6cb6a6",
   "metadata": {},
   "outputs": [],
   "source": [
    "student.to_csv('out.csv',mode='w',header= True,index= False)"
   ]
  },
  {
   "cell_type": "markdown",
   "id": "48407661-e4e5-43a2-83ee-a1d20328d720",
   "metadata": {},
   "source": [
    "###\n",
    "-####header\n",
    "\n",
    "header=True（默认）：表示导出 CSV 文件时包含列名。\n",
    "\n",
    "student 是 DataFrame，列名（如 'Name', 'Age'）会被写入 CSV 的第一行。\n",
    "\n",
    "header=False：表示不包含列名，仅导出数据部分。\n",
    "\n",
    "\n",
    "-####index\n",
    "\n",
    "index=False（推荐）：表示不导出行索引（即最左侧的 0, 1, 2, ... 这类默认索引）。\r\n",
    "\r\n",
    "如果你的 DataFrame 没有自定义索引（如时间索引、ID 索引等），通常设为 False 以避免 CSV 中多出一列无意义的数字。\r\n",
    "\r\n",
    "index=True（默认）：会导出行索引，在 CSV 中多出一列。\r\n",
    "\r\n"
   ]
  },
  {
   "cell_type": "markdown",
   "id": "f710be14-19f9-4084-b2b1-e31bc139136e",
   "metadata": {},
   "source": [
    "### 例3-8 读取excel文件"
   ]
  },
  {
   "cell_type": "code",
   "execution_count": null,
   "id": "1492315f-626c-4329-9656-f8263687a9c1",
   "metadata": {},
   "outputs": [],
   "source": [
    "#将序号列作为index，跳过前3行\n",
    ">>> student = pd.read_excel( 'data\\student3.xlsx', \n",
    "'Group1', index_col=0, skiprows=3 ) #跳过0,1,2行，skiprow=[1,2]表示跳过第2,3行\n",
    ">>> student[:2]"
   ]
  },
  {
   "cell_type": "markdown",
   "id": "b7ca15da-188a-41cf-b5aa-aef443efc0dd",
   "metadata": {},
   "source": [
    "## 课后作业\n",
    "1. 创建50×7的DataFrame对象，数据为 [10,99]之间的随机整数；\n",
    "\n",
    "columns为字符a-g；将DataFrame对象保存到csv文件中。\n",
    "\n",
    "【提示】使用NumPy的随机生成函数randint()生成数据。\n",
    "\n",
    "2. 海伦一直使用在线交友网站寻找适合的约会对象, 她将交友数据存放在datingTestSet.xls文件中。\n",
    "\n",
    "1）从文件中读取有效数据保存到Dataframe对象中，跳过所有文字解释行；\n",
    "\n",
    "2）列索引名设为 ['flymiles','videogame','icecream','type‘]；\n",
    "\n",
    "3）显示读取到的前5条数据；\n",
    "\n",
    "4）显示所有'type'为'largeDoses‘的数据；\n",
    "\n",
    "5）将平均每周玩视频游戏时间超过10的数据都改成10；\n"
   ]
  },
  {
   "cell_type": "markdown",
   "id": "d9f6c11a-f2e9-487e-b729-4f1e0ba216a0",
   "metadata": {},
   "source": [
    "#### 创建一个50*7的DataFrame对象并保存为csv"
   ]
  },
  {
   "cell_type": "code",
   "execution_count": 42,
   "id": "ecaaccc0-2f9b-46c1-8942-127767cd5885",
   "metadata": {},
   "outputs": [],
   "source": [
    "#创建一个50*7的DataFrame对象并保存为csv\n",
    "data = np.random.randint(10,100,size = (50,7)) #生成50*7的随机数，范围是10-100"
   ]
  },
  {
   "cell_type": "code",
   "execution_count": 43,
   "id": "f7597e9d-b00b-4138-adce-4bed62a27f5e",
   "metadata": {},
   "outputs": [],
   "source": [
    "df = pd.DataFrame(data,columns=list('abcdefg')) #创建DataFrame对象，列名为a-g"
   ]
  },
  {
   "cell_type": "code",
   "execution_count": 44,
   "id": "ce08c031-7e04-444e-a4e9-8fe7e67e3ab0",
   "metadata": {},
   "outputs": [],
   "source": [
    "df.to_csv('random_data.csv',index=False) #保存到csv文件，无行索引"
   ]
  },
  {
   "cell_type": "markdown",
   "id": "868c87ca-673d-4784-ab04-f4fa806275b3",
   "metadata": {},
   "source": [
    "##### 查找刚刚的csv文件导出路径"
   ]
  },
  {
   "cell_type": "code",
   "execution_count": 45,
   "id": "b4b46fdc-51c6-45cd-8210-9039097e3608",
   "metadata": {},
   "outputs": [],
   "source": [
    "import os\n",
    "\n",
    "# 获取当前工作目录\n",
    "current_dir = os.getcwd()\n",
    "csv_path = os.path.join(current_dir, 'random_data.csv')"
   ]
  },
  {
   "cell_type": "code",
   "execution_count": 46,
   "id": "78228d49-5b5a-4bf0-a68e-8abe48495e0d",
   "metadata": {},
   "outputs": [
    {
     "name": "stdout",
     "output_type": "stream",
     "text": [
      "文件已保存到：C:\\Users\\Administrator\\random_data.csv\n"
     ]
    }
   ],
   "source": [
    "print(f\"文件已保存到：{csv_path}\")"
   ]
  },
  {
   "cell_type": "markdown",
   "id": "33c2cd05-0db0-47ea-b905-4dc7dc020b5b",
   "metadata": {},
   "source": [
    "#### 2. 处理海伦的约会数据"
   ]
  },
  {
   "cell_type": "code",
   "execution_count": null,
   "id": "cfb57a87-3a48-43d0-b261-fb1723e364c5",
   "metadata": {},
   "outputs": [],
   "source": []
  },
  {
   "cell_type": "code",
   "execution_count": null,
   "id": "af8b5400-0b47-4caa-ad43-60f3850f2ed4",
   "metadata": {},
   "outputs": [],
   "source": []
  },
  {
   "cell_type": "code",
   "execution_count": null,
   "id": "4605762d-20a7-4519-85e6-b146f70fb16f",
   "metadata": {},
   "outputs": [],
   "source": []
  },
  {
   "cell_type": "code",
   "execution_count": null,
   "id": "f2782535-dc4e-44da-a3ff-d9d32b6f1973",
   "metadata": {},
   "outputs": [],
   "source": []
  },
  {
   "cell_type": "code",
   "execution_count": null,
   "id": "d74d0885-e5da-4786-81bc-07432b489da5",
   "metadata": {},
   "outputs": [],
   "source": []
  },
  {
   "cell_type": "code",
   "execution_count": null,
   "id": "703a7f7d-0379-4c30-a1ee-cf903ce14d07",
   "metadata": {},
   "outputs": [],
   "source": []
  },
  {
   "cell_type": "code",
   "execution_count": null,
   "id": "9fbbb7b5-8858-4d4b-8644-da54f0a33d91",
   "metadata": {},
   "outputs": [],
   "source": []
  },
  {
   "cell_type": "code",
   "execution_count": null,
   "id": "19bea46e-58ef-4918-b3be-7243666924e9",
   "metadata": {},
   "outputs": [],
   "source": []
  },
  {
   "cell_type": "code",
   "execution_count": null,
   "id": "32305f04-e17c-447b-9d4f-10a50b8abb2d",
   "metadata": {},
   "outputs": [],
   "source": []
  },
  {
   "cell_type": "code",
   "execution_count": null,
   "id": "329bb902-a8ea-446a-8868-60c9b0311d2e",
   "metadata": {},
   "outputs": [],
   "source": []
  },
  {
   "cell_type": "code",
   "execution_count": null,
   "id": "34d1c2e4-ddac-48d6-84ce-4791db3ff48e",
   "metadata": {},
   "outputs": [],
   "source": []
  },
  {
   "cell_type": "code",
   "execution_count": null,
   "id": "c8e2884e-4065-4587-ade2-cbb501a14c33",
   "metadata": {},
   "outputs": [],
   "source": []
  },
  {
   "cell_type": "code",
   "execution_count": null,
   "id": "cdfbf0d5-ab8e-44c8-a7ff-1da2df47ac89",
   "metadata": {},
   "outputs": [],
   "source": []
  }
 ],
 "metadata": {
  "kernelspec": {
   "display_name": "Python 3 (ipykernel)",
   "language": "python",
   "name": "python3"
  },
  "language_info": {
   "codemirror_mode": {
    "name": "ipython",
    "version": 3
   },
   "file_extension": ".py",
   "mimetype": "text/x-python",
   "name": "python",
   "nbconvert_exporter": "python",
   "pygments_lexer": "ipython3",
   "version": "3.12.4"
  }
 },
 "nbformat": 4,
 "nbformat_minor": 5
}
