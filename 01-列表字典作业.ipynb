{
 "cells": [
  {
   "cell_type": "markdown",
   "id": "43ad57a9-1a3b-4a2e-8f4a-10d648a033e5",
   "metadata": {},
   "source": [
    "作业一：编写Python程序实现功能：从键盘输入若干同学的姓名，保存在字符串列表中。输入某个同学的名字，检索是否已保存列表中。 要求：循环输入多位同学姓名；循环输入姓名判断是否在列表中。"
   ]
  },
  {
   "cell_type": "code",
   "execution_count": 44,
   "id": "c5c021ef-ead4-484b-ac29-9692c20dad4a",
   "metadata": {},
   "outputs": [
    {
     "name": "stdout",
     "output_type": "stream",
     "text": [
      "请输入学生姓名，按q键停止\n"
     ]
    },
    {
     "name": "stdin",
     "output_type": "stream",
     "text": [
      "请输入姓名 梁晶金\n",
      "请输入姓名 徐沁楠\n",
      "请输入姓名 朱瑞缘\n",
      "请输入姓名 王嘉瑜\n",
      "请输入姓名 q\n"
     ]
    }
   ],
   "source": [
    "#创建学生列表\n",
    "classmates = [] #空列表\n",
    "print(\"请输入学生姓名，按q键停止\")\n",
    "while True:\n",
    "    name = input(\"请输入姓名\")\n",
    "    if name.lower() == 'q':#当输入q就停止输入\n",
    "        break\n",
    "    classmates.append(name)"
   ]
  },
  {
   "cell_type": "code",
   "execution_count": 45,
   "id": "8fef5ce6-918e-4567-9651-f787ac294bb4",
   "metadata": {},
   "outputs": [
    {
     "name": "stdout",
     "output_type": "stream",
     "text": [
      "学生姓名列表如下：\n",
      "梁晶金\n",
      "徐沁楠\n",
      "朱瑞缘\n",
      "王嘉瑜\n"
     ]
    }
   ],
   "source": [
    "#输出学生姓名列表\n",
    "print(\"学生姓名列表如下：\")\n",
    "for name in classmates :\n",
    "    print(name)"
   ]
  },
  {
   "cell_type": "code",
   "execution_count": 53,
   "id": "dea8b3a0-4926-4e6b-b778-23e43de97937",
   "metadata": {},
   "outputs": [
    {
     "name": "stdout",
     "output_type": "stream",
     "text": [
      "开始查询学生是否在名单中\n"
     ]
    },
    {
     "name": "stdin",
     "output_type": "stream",
     "text": [
      "输入要查询的姓名 姚锦杰\n"
     ]
    },
    {
     "name": "stdout",
     "output_type": "stream",
     "text": [
      "'姚锦杰'不在同学名单中\n"
     ]
    },
    {
     "name": "stdin",
     "output_type": "stream",
     "text": [
      "输入要查询的姓名 梁晶金\n"
     ]
    },
    {
     "name": "stdout",
     "output_type": "stream",
     "text": [
      "'梁晶金'在同学名单中\n"
     ]
    },
    {
     "name": "stdin",
     "output_type": "stream",
     "text": [
      "输入要查询的姓名 q\n"
     ]
    },
    {
     "name": "stdout",
     "output_type": "stream",
     "text": [
      "程序结束\n"
     ]
    }
   ],
   "source": [
    "#检索姓名是否在列表中\n",
    "print(\"开始查询学生是否在名单中\")\n",
    "while True:\n",
    "    search_name = input(\"输入要查询的姓名\")\n",
    "    if search_name.lower() == 'q':\n",
    "        break\n",
    "\n",
    "    if search_name in classmates:\n",
    "        print(f\"'{search_name}'在同学名单中\")\n",
    "    else:\n",
    "        print(f\"'{search_name}'不在同学名单中\")\n",
    "print(\"程序结束\")"
   ]
  },
  {
   "cell_type": "markdown",
   "id": "2e6bbbd4-bb0f-428f-8539-43efd74489e7",
   "metadata": {},
   "source": [
    "作业一就是分为三个部分\n",
    "\n",
    "①创建列表-》[]\n",
    "\n",
    "②输入同学姓名\n",
    "\n",
    "③检索姓名是否在列表中\n"
   ]
  },
  {
   "cell_type": "markdown",
   "id": "77291f5e-7526-4b3c-8c4f-926cf64b2f28",
   "metadata": {},
   "source": []
  },
  {
   "cell_type": "markdown",
   "id": "88b9b4f1-d00c-4d38-bd0d-592f137f28ed",
   "metadata": {},
   "source": [
    "作业二：编写Python程序实现功能：使用字典记录同学的姓名及对应身高，输入任意同学的姓名，查找并显示所有高于此身高的同学信息。 要求：循环输入多个同学姓名及身高、考虑结束符号；循环查询，根据输出判断终止。"
   ]
  },
  {
   "cell_type": "markdown",
   "id": "97c09116-a146-4b85-8b4c-a5a2f5b62c59",
   "metadata": {},
   "source": [
    "①创建字典-》{}\n",
    "②输入同学的姓名和身高，同时在输入身高的时候判断输入正误\n",
    "③输入任意同学姓名，检测该同学姓名是否在字典中，\n",
    "    若不在字典中就输出不在字典中，然后continue\n",
    "    若在字典中就查找并输出所有高于此身高的同学信息"
   ]
  },
  {
   "cell_type": "code",
   "execution_count": 75,
   "id": "3915028b-9474-4e8a-b8fd-bec496628fe6",
   "metadata": {},
   "outputs": [],
   "source": [
    "#创建空字典\n",
    "classmatess = {}"
   ]
  },
  {
   "cell_type": "code",
   "execution_count": 78,
   "id": "226e663f-42b6-4188-b7c4-3aae93789c9b",
   "metadata": {},
   "outputs": [
    {
     "name": "stdout",
     "output_type": "stream",
     "text": [
      "开始输入\n"
     ]
    },
    {
     "name": "stdin",
     "output_type": "stream",
     "text": [
      "姓名（输入q结束）： 梁晶金\n",
      "身高（cm） 172\n",
      "姓名（输入q结束）： 徐沁楠\n",
      "身高（cm） 168\n",
      "姓名（输入q结束）： 朱瑞缘\n",
      "身高（cm） 155\n",
      "姓名（输入q结束）： q\n"
     ]
    }
   ],
   "source": [
    "#将学生姓名身高存入字典\n",
    "print(\"开始输入\")\n",
    "while True:\n",
    "    name = input(\"姓名（输入q结束）：\")\n",
    "    if name.lower() == 'q':\n",
    "        break\n",
    "\n",
    "    \n",
    "    #输入身高并验证是否为数字\n",
    "    while True:\n",
    "        height_input = input(\"身高（cm）\")\n",
    "        if height_input.lower() == 'q':\n",
    "            break  # 跳过当前同学，不存入字典\n",
    "     \n",
    "        try:\n",
    "            height = float(height_input) \n",
    "            if height <= 0 :\n",
    "                print(\"身高输入错误\")\n",
    "                continue\n",
    "            break\n",
    "        except ValueError:\n",
    "            print(\"请输入有效数字\")\n",
    "\n",
    "    classmatess[name] = height"
   ]
  },
  {
   "cell_type": "code",
   "execution_count": 79,
   "id": "d815c3b4-dc73-41b8-8cb7-9993da8ec8cc",
   "metadata": {},
   "outputs": [
    {
     "name": "stdout",
     "output_type": "stream",
     "text": [
      "所有同学信息\n",
      "梁晶金:172.0cm\n",
      "徐沁楠:168.0cm\n",
      "朱瑞缘:155.0cm\n"
     ]
    }
   ],
   "source": [
    "#显示所有同学信息\n",
    "print(\"所有同学信息\")\n",
    "for name,height in classmatess.items():\n",
    "    print(f\"{name}:{height}cm\")"
   ]
  },
  {
   "cell_type": "code",
   "execution_count": 87,
   "id": "11ba8396-fb71-4a1b-8acf-3b9858201a47",
   "metadata": {},
   "outputs": [
    {
     "name": "stdout",
     "output_type": "stream",
     "text": [
      "开始查询身高高于某位同学的同学\n"
     ]
    },
    {
     "name": "stdin",
     "output_type": "stream",
     "text": [
      "请输入要查询的同学姓名 徐沁楠\n"
     ]
    },
    {
     "name": "stdout",
     "output_type": "stream",
     "text": [
      "高于徐沁楠(168.0cm)的同学有：\n",
      "梁晶金:172.0cm\n"
     ]
    },
    {
     "name": "stdin",
     "output_type": "stream",
     "text": [
      "请输入要查询的同学姓名 梁晶金\n"
     ]
    },
    {
     "name": "stdout",
     "output_type": "stream",
     "text": [
      "没有同学高于梁晶金(172.0cm)\n"
     ]
    },
    {
     "name": "stdin",
     "output_type": "stream",
     "text": [
      "请输入要查询的同学姓名 朱瑞缘\n"
     ]
    },
    {
     "name": "stdout",
     "output_type": "stream",
     "text": [
      "高于朱瑞缘(155.0cm)的同学有：\n",
      "梁晶金:172.0cm\n",
      "徐沁楠:168.0cm\n"
     ]
    },
    {
     "name": "stdin",
     "output_type": "stream",
     "text": [
      "请输入要查询的同学姓名 q\n"
     ]
    },
    {
     "name": "stdout",
     "output_type": "stream",
     "text": [
      "程序结束\n"
     ]
    }
   ],
   "source": [
    "#查询同学信息\n",
    "print(\"开始查询身高高于某位同学的同学\")\n",
    "while True:\n",
    "    search_name = input(\"请输入要查询的同学姓名\")\n",
    "    if search_name.lower() == 'q':   #输入q就表示停止输入\n",
    "        break\n",
    "\n",
    "    #检查姓名是否存在\n",
    "    if search_name not in classmatess:\n",
    "        print(f\"'{search_name}'不在同学名单中\")\n",
    "        continue \n",
    "\n",
    "    #获取查询同学的身高\n",
    "    target_height = classmatess[search_name]\n",
    "\n",
    "    #查询高于该同学身高的同学\n",
    "    taller_stu = {name:height for name,height in classmatess.items()\n",
    "                 if height > target_height}\n",
    "\n",
    "    #输出结果\n",
    "    if taller_stu:\n",
    "        print(f\"高于{search_name}({target_height}cm)的同学有：\")\n",
    "        for name,height in taller_stu.items():\n",
    "            print(f\"{name}:{height}cm\")\n",
    "    else:\n",
    "        print(f\"没有同学高于{search_name}({target_height}cm)\")\n",
    "print(\"程序结束\")"
   ]
  },
  {
   "cell_type": "code",
   "execution_count": null,
   "id": "8f15d1cd-39d7-4533-840e-829462f67c98",
   "metadata": {},
   "outputs": [],
   "source": []
  },
  {
   "cell_type": "code",
   "execution_count": null,
   "id": "0a3bb1bc-1705-45f4-a939-6fc388885c27",
   "metadata": {},
   "outputs": [],
   "source": []
  },
  {
   "cell_type": "code",
   "execution_count": 5,
   "id": "10b0b1f2-3b45-49b3-afc9-6cec1dc01cde",
   "metadata": {},
   "outputs": [
    {
     "name": "stdout",
     "output_type": "stream",
     "text": [
      "True\n"
     ]
    }
   ],
   "source": [
    "print(3+5==8)"
   ]
  },
  {
   "cell_type": "code",
   "execution_count": 6,
   "id": "e3eb48f5-f9b7-4e26-868b-a4395c67bc05",
   "metadata": {},
   "outputs": [
    {
     "name": "stdout",
     "output_type": "stream",
     "text": [
      "False\n"
     ]
    }
   ],
   "source": [
    "print(1+2==0)"
   ]
  },
  {
   "cell_type": "code",
   "execution_count": 13,
   "id": "4dd8c75e-8352-4ff4-a097-49ff76627502",
   "metadata": {},
   "outputs": [],
   "source": [
    "#遍历列表\n",
    "#创建一个列表\n",
    "\n",
    "my_list=['ljj','zry','xqn']"
   ]
  },
  {
   "cell_type": "code",
   "execution_count": 19,
   "id": "766d47d6-ea5c-4817-a0eb-640664a5a020",
   "metadata": {},
   "outputs": [
    {
     "name": "stdout",
     "output_type": "stream",
     "text": [
      "直接遍历元素法:\n",
      "ljj\n",
      "zry\n",
      "xqn\n"
     ]
    }
   ],
   "source": [
    "#直接遍历元素\n",
    "print(\"直接遍历元素法:\")\n",
    "for item in my_list:\n",
    "      print(item)"
   ]
  },
  {
   "cell_type": "code",
   "execution_count": 20,
   "id": "b07efb9e-63a8-4f01-9a0c-df68b1628ee6",
   "metadata": {},
   "outputs": [],
   "source": [
    "#遍历字典\n",
    "#创建一个字典\n",
    "my_dict = {'name':'Ljj','age':25,'city':'ChongQing'}"
   ]
  },
  {
   "cell_type": "code",
   "execution_count": 23,
   "id": "2346871e-64ff-4aba-81f6-9e3d1d3b7493",
   "metadata": {},
   "outputs": [
    {
     "name": "stdout",
     "output_type": "stream",
     "text": [
      "遍历键：\n",
      "name\n",
      "age\n",
      "city\n"
     ]
    }
   ],
   "source": [
    "#遍历键\n",
    "print(\"遍历键：\")\n",
    "for key in my_dict:\n",
    "    print(key)"
   ]
  },
  {
   "cell_type": "code",
   "execution_count": 25,
   "id": "2e2e743b-8505-4b1e-b1f5-a2e8da878359",
   "metadata": {},
   "outputs": [
    {
     "name": "stdout",
     "output_type": "stream",
     "text": [
      "遍历值：\n",
      "Ljj\n",
      "25\n",
      "ChongQing\n"
     ]
    }
   ],
   "source": [
    "#遍历值\n",
    "print(\"遍历值：\")\n",
    "for value in my_dict.values():\n",
    "    print(value)"
   ]
  },
  {
   "cell_type": "code",
   "execution_count": 27,
   "id": "24f69365-1e01-4912-8674-ee068cf8088a",
   "metadata": {},
   "outputs": [
    {
     "name": "stdout",
     "output_type": "stream",
     "text": [
      "值和键一起遍历\n",
      "name:Ljj\n",
      "age:25\n",
      "city:ChongQing\n"
     ]
    }
   ],
   "source": [
    "#值和键一起遍历\n",
    "print(\"值和键一起遍历\")\n",
    "for key,value in my_dict.items():\n",
    "    print(f\"{key}:{value}\")"
   ]
  },
  {
   "cell_type": "code",
   "execution_count": null,
   "id": "f3e67604-73e3-46ad-846f-3c21e3afff54",
   "metadata": {},
   "outputs": [],
   "source": []
  }
 ],
 "metadata": {
  "kernelspec": {
   "display_name": "Python 3 (ipykernel)",
   "language": "python",
   "name": "python3"
  },
  "language_info": {
   "codemirror_mode": {
    "name": "ipython",
    "version": 3
   },
   "file_extension": ".py",
   "mimetype": "text/x-python",
   "name": "python",
   "nbconvert_exporter": "python",
   "pygments_lexer": "ipython3",
   "version": "3.12.4"
  }
 },
 "nbformat": 4,
 "nbformat_minor": 5
}
