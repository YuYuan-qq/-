{
 "cells": [
  {
   "cell_type": "markdown",
   "id": "5d495c71-4142-4db2-9634-de2c6f69f8c0",
   "metadata": {},
   "source": [
    "五位学生参加了学业水平考试，7门成绩\n",
    "math\n",
    "english\n",
    "python\n",
    "chiese\n",
    "art\n",
    "database\n",
    "physics"
   ]
  },
  {
   "cell_type": "code",
   "execution_count": 2,
   "id": "b6195bbc-28bd-411c-a097-4d85903856dc",
   "metadata": {},
   "outputs": [],
   "source": [
    "import numpy as np\n",
    "names = np.array(['梁晶金','徐沁楠','朱瑞缘','王嘉瑜','郝茹馨'])#基于列表创建一维数组"
   ]
  },
  {
   "cell_type": "code",
   "execution_count": 3,
   "id": "4b4e0988-b9e5-462b-98e0-43ad4d0bd507",
   "metadata": {},
   "outputs": [
    {
     "data": {
      "text/plain": [
       "array(['梁晶金', '徐沁楠', '朱瑞缘', '王嘉瑜', '郝茹馨'], dtype='<U3')"
      ]
     },
     "execution_count": 3,
     "metadata": {},
     "output_type": "execute_result"
    }
   ],
   "source": [
    "names"
   ]
  },
  {
   "cell_type": "code",
   "execution_count": 4,
   "id": "0bda3630-cd64-4bc7-bdb2-63cd83b635d4",
   "metadata": {},
   "outputs": [],
   "source": [
    "subject = np.array(['math','english','chinese','python','database','physics','art'])"
   ]
  },
  {
   "cell_type": "code",
   "execution_count": 5,
   "id": "9ac66203-9b38-407d-ab2e-3731d5d872fb",
   "metadata": {},
   "outputs": [
    {
     "data": {
      "text/plain": [
       "array(['math', 'english', 'chinese', 'python', 'database', 'physics',\n",
       "       'art'], dtype='<U8')"
      ]
     },
     "execution_count": 5,
     "metadata": {},
     "output_type": "execute_result"
    }
   ],
   "source": [
    "subject"
   ]
  },
  {
   "cell_type": "markdown",
   "id": "0e8f013c-9669-4c26-aa1f-b9c4e932ad38",
   "metadata": {},
   "source": []
  },
  {
   "cell_type": "markdown",
   "id": "002f04d8-512e-48dd-b89a-dbf62ee6c6f4",
   "metadata": {},
   "source": [
    "访问一维数组"
   ]
  },
  {
   "cell_type": "code",
   "execution_count": 7,
   "id": "5e5ef62b-e6ee-4e25-b471-5e5a496db6ae",
   "metadata": {},
   "outputs": [
    {
     "data": {
      "text/plain": [
       "1"
      ]
     },
     "execution_count": 7,
     "metadata": {},
     "output_type": "execute_result"
    }
   ],
   "source": [
    "#数组维度\n",
    "names.ndim "
   ]
  },
  {
   "cell_type": "code",
   "execution_count": 8,
   "id": "f4ed979d-310e-4238-9d25-86757d3be963",
   "metadata": {},
   "outputs": [
    {
     "data": {
      "text/plain": [
       "5"
      ]
     },
     "execution_count": 8,
     "metadata": {},
     "output_type": "execute_result"
    }
   ],
   "source": [
    "#数组元素个数\n",
    "names.size"
   ]
  },
  {
   "cell_type": "code",
   "execution_count": 9,
   "id": "8eb75f3b-5032-4e95-b76d-f0f35e9c4899",
   "metadata": {},
   "outputs": [
    {
     "data": {
      "text/plain": [
       "dtype('<U3')"
      ]
     },
     "execution_count": 9,
     "metadata": {},
     "output_type": "execute_result"
    }
   ],
   "source": [
    "#数组数据类型\n",
    "names.dtype"
   ]
  },
  {
   "cell_type": "code",
   "execution_count": 10,
   "id": "79f70dd7-d0c0-475d-bc92-0a97e03f0fed",
   "metadata": {},
   "outputs": [
    {
     "data": {
      "text/plain": [
       "'朱瑞缘'"
      ]
     },
     "execution_count": 10,
     "metadata": {},
     "output_type": "execute_result"
    }
   ],
   "source": [
    "names[2]#数组索引"
   ]
  },
  {
   "cell_type": "code",
   "execution_count": 11,
   "id": "e2772211-1c6e-4520-90c3-e5fc062f84ba",
   "metadata": {},
   "outputs": [
    {
     "data": {
      "text/plain": [
       "'art'"
      ]
     },
     "execution_count": 11,
     "metadata": {},
     "output_type": "execute_result"
    }
   ],
   "source": [
    "subject[6]#数组索引"
   ]
  },
  {
   "cell_type": "markdown",
   "id": "788ce8fa-8906-4e78-b730-17ba9f23198b",
   "metadata": {},
   "source": []
  },
  {
   "cell_type": "markdown",
   "id": "962bedd9-ecbb-4b04-8449-c2846f2cba5d",
   "metadata": {},
   "source": [
    "数组切片"
   ]
  },
  {
   "cell_type": "code",
   "execution_count": 12,
   "id": "cfd1c421-ec00-4048-8bc6-2073a3ba1ad3",
   "metadata": {},
   "outputs": [
    {
     "data": {
      "text/plain": [
       "array(['梁晶金', '朱瑞缘', '郝茹馨'], dtype='<U3')"
      ]
     },
     "execution_count": 12,
     "metadata": {},
     "output_type": "execute_result"
    }
   ],
   "source": [
    "names[[0,2,4]]#抽取数组下标为0,2,4的元素"
   ]
  },
  {
   "cell_type": "code",
   "execution_count": 13,
   "id": "ebdd2196-4362-4853-9aa4-0b36df74be03",
   "metadata": {},
   "outputs": [
    {
     "data": {
      "text/plain": [
       "array(['梁晶金', '徐沁楠'], dtype='<U3')"
      ]
     },
     "execution_count": 13,
     "metadata": {},
     "output_type": "execute_result"
    }
   ],
   "source": [
    "names[0:2]#抽取数组下标0~1的元素"
   ]
  },
  {
   "cell_type": "code",
   "execution_count": 16,
   "id": "08073873-6550-4394-aa16-87684f913637",
   "metadata": {},
   "outputs": [
    {
     "data": {
      "text/plain": [
       "array(['math', 'chinese', 'database'], dtype='<U8')"
      ]
     },
     "execution_count": 16,
     "metadata": {},
     "output_type": "execute_result"
    }
   ],
   "source": [
    "subject[:-1:2]#Star : End : Step，表示从开头到倒数第二个元素之间抽取，步长为2"
   ]
  },
  {
   "cell_type": "code",
   "execution_count": 18,
   "id": "21ae4055-810d-4484-88d0-7c05dc7138c5",
   "metadata": {},
   "outputs": [
    {
     "data": {
      "text/plain": [
       "array(['梁晶金', '徐沁楠'], dtype='<U3')"
      ]
     },
     "execution_count": 18,
     "metadata": {},
     "output_type": "execute_result"
    }
   ],
   "source": [
    "names[(names == '梁晶金')|(names == '徐沁楠')] #筛选出名为梁晶金和徐沁楠的同学"
   ]
  },
  {
   "cell_type": "code",
   "execution_count": 19,
   "id": "638ac847-bd7e-43d8-ba1c-3853d8657b49",
   "metadata": {},
   "outputs": [],
   "source": [
    "judge = (names == '梁晶金') | (names == '徐沁楠') #生成Bool型数组"
   ]
  },
  {
   "cell_type": "code",
   "execution_count": 20,
   "id": "caa9c6a7-c9a5-4f66-b660-13400d376786",
   "metadata": {},
   "outputs": [
    {
     "data": {
      "text/plain": [
       "array([ True,  True, False, False, False])"
      ]
     },
     "execution_count": 20,
     "metadata": {},
     "output_type": "execute_result"
    }
   ],
   "source": [
    "judge"
   ]
  },
  {
   "cell_type": "markdown",
   "id": "bda8f60a-1602-4349-beb7-45d02afb9f86",
   "metadata": {},
   "source": [
    "\n",
    "\n"
   ]
  },
  {
   "cell_type": "code",
   "execution_count": 25,
   "id": "b543f438-98ba-4936-83cd-77a7f8b9ef2b",
   "metadata": {},
   "outputs": [],
   "source": [
    "#创建二维数组\n",
    "scores = np.array([[70,85,77,90,82,84,89],\n",
    "                  [60,64,80,75,80,92,90],\n",
    "                  [90,90,88,87,86,90,91],\n",
    "                  [80,82,91,95,88,83,86],\n",
    "                  [88,72,78,90,91,73,80]\n",
    "                  ])"
   ]
  },
  {
   "cell_type": "code",
   "execution_count": 26,
   "id": "7d2c425a-eca1-47c0-87ac-63e747f95116",
   "metadata": {},
   "outputs": [
    {
     "data": {
      "text/plain": [
       "array([[70, 85, 77, 90, 82, 84, 89],\n",
       "       [60, 64, 80, 75, 80, 92, 90],\n",
       "       [90, 90, 88, 87, 86, 90, 91],\n",
       "       [80, 82, 91, 95, 88, 83, 86],\n",
       "       [88, 72, 78, 90, 91, 73, 80]])"
      ]
     },
     "execution_count": 26,
     "metadata": {},
     "output_type": "execute_result"
    }
   ],
   "source": [
    "scores"
   ]
  },
  {
   "cell_type": "code",
   "execution_count": 44,
   "id": "50ed7368-ab64-4826-9a52-32f4ac65f3d0",
   "metadata": {},
   "outputs": [
    {
     "data": {
      "text/plain": [
       "array([[70, 85, 77, 90, 82, 84, 89],\n",
       "       [60, 64, 80, 75, 80, 92, 90]])"
      ]
     },
     "execution_count": 44,
     "metadata": {},
     "output_type": "execute_result"
    }
   ],
   "source": [
    "#筛选二维数组元素\n",
    "scores[(names == '梁晶金') | (names == '徐沁楠')]"
   ]
  },
  {
   "cell_type": "code",
   "execution_count": 46,
   "id": "b1eaf9e1-831b-47e0-8094-69564daa3935",
   "metadata": {},
   "outputs": [
    {
     "data": {
      "text/plain": [
       "array([[70, 90],\n",
       "       [60, 75]])"
      ]
     },
     "execution_count": 46,
     "metadata": {},
     "output_type": "execute_result"
    }
   ],
   "source": [
    "#想提取出梁晶金和徐沁楠的math和python课成绩\n",
    "scores[(names == '梁晶金') |(names == '徐沁楠')][:,(subject == 'math')|(subject == 'python')]"
   ]
  },
  {
   "cell_type": "code",
   "execution_count": null,
   "id": "5cfa8449-a0bb-4f78-8d1d-d7035314804a",
   "metadata": {},
   "outputs": [],
   "source": [
    "#访问二维数组"
   ]
  },
  {
   "cell_type": "code",
   "execution_count": 28,
   "id": "09a87278-e21c-4e5e-963b-6c3e3c5839c9",
   "metadata": {},
   "outputs": [
    {
     "data": {
      "text/plain": [
       "2"
      ]
     },
     "execution_count": 28,
     "metadata": {},
     "output_type": "execute_result"
    }
   ],
   "source": [
    "#查看二维数组的维数\n",
    "scores.ndim"
   ]
  },
  {
   "cell_type": "code",
   "execution_count": 29,
   "id": "529849a3-c015-4860-98a5-6765cd23121d",
   "metadata": {},
   "outputs": [
    {
     "data": {
      "text/plain": [
       "35"
      ]
     },
     "execution_count": 29,
     "metadata": {},
     "output_type": "execute_result"
    }
   ],
   "source": [
    "#查看二维数组的元素个数\n",
    "scores.size"
   ]
  },
  {
   "cell_type": "code",
   "execution_count": 30,
   "id": "bbbfaece-23e0-4daa-b19f-14ffa9512517",
   "metadata": {},
   "outputs": [
    {
     "data": {
      "text/plain": [
       "(5, 7)"
      ]
     },
     "execution_count": 30,
     "metadata": {},
     "output_type": "execute_result"
    }
   ],
   "source": [
    "#查看数组的行数和列数\n",
    "scores.shape"
   ]
  },
  {
   "cell_type": "code",
   "execution_count": 31,
   "id": "3e5bc09d-98ad-4324-b27f-3579c3fd8f7e",
   "metadata": {},
   "outputs": [
    {
     "data": {
      "text/plain": [
       "dtype('int32')"
      ]
     },
     "execution_count": 31,
     "metadata": {},
     "output_type": "execute_result"
    }
   ],
   "source": [
    "#查看数组的元素类型\n",
    "scores.dtype"
   ]
  },
  {
   "cell_type": "code",
   "execution_count": null,
   "id": "1677c4c2-4dd7-4a16-9465-b799ef865acc",
   "metadata": {},
   "outputs": [],
   "source": []
  },
  {
   "cell_type": "code",
   "execution_count": null,
   "id": "df803bc6-0316-4022-983c-d411d7be8a2b",
   "metadata": {},
   "outputs": [],
   "source": [
    "#二维数组切片 arr[row:column]，行不能省略，列可以省略"
   ]
  },
  {
   "cell_type": "code",
   "execution_count": 32,
   "id": "2c3c40b6-19bc-4133-ae87-297dabf5af25",
   "metadata": {},
   "outputs": [
    {
     "data": {
      "text/plain": [
       "70"
      ]
     },
     "execution_count": 32,
     "metadata": {},
     "output_type": "execute_result"
    }
   ],
   "source": [
    "scores[0,0] #提取数组的第0行第0列那个元素"
   ]
  },
  {
   "cell_type": "code",
   "execution_count": 34,
   "id": "a76defee-a2a6-4eca-a8ee-18aa8eabdf4d",
   "metadata": {},
   "outputs": [
    {
     "data": {
      "text/plain": [
       "array([80, 88])"
      ]
     },
     "execution_count": 34,
     "metadata": {},
     "output_type": "execute_result"
    }
   ],
   "source": [
    "scores[[1,3],[2,4]]"
   ]
  },
  {
   "cell_type": "code",
   "execution_count": 35,
   "id": "7801252f-acfd-429d-b6cb-ea939a5865d8",
   "metadata": {},
   "outputs": [
    {
     "data": {
      "text/plain": [
       "array([[70, 85],\n",
       "       [60, 64],\n",
       "       [90, 90],\n",
       "       [80, 82],\n",
       "       [88, 72]])"
      ]
     },
     "execution_count": 35,
     "metadata": {},
     "output_type": "execute_result"
    }
   ],
   "source": [
    " scores[:,[0,1]] #抽出所有行的第0列和第1列元素"
   ]
  },
  {
   "cell_type": "code",
   "execution_count": 37,
   "id": "e89b10af-6be9-4a54-93b1-95d4797234c7",
   "metadata": {},
   "outputs": [
    {
     "data": {
      "text/plain": [
       "array([[60, 64, 80, 75, 80, 92, 90],\n",
       "       [80, 82, 91, 95, 88, 83, 86]])"
      ]
     },
     "execution_count": 37,
     "metadata": {},
     "output_type": "execute_result"
    }
   ],
   "source": [
    "scores[[1,3]] #抽取第1行和第3行元素值"
   ]
  },
  {
   "cell_type": "code",
   "execution_count": 38,
   "id": "82ac2823-6fc9-4168-8982-6f5336446908",
   "metadata": {},
   "outputs": [
    {
     "data": {
      "text/plain": [
       "array([[85, 77, 90],\n",
       "       [82, 91, 95]])"
      ]
     },
     "execution_count": 38,
     "metadata": {},
     "output_type": "execute_result"
    }
   ],
   "source": [
    "scores[[0,3],1:4] #抽取第0行和第3行中，第1列~第3列数据值"
   ]
  },
  {
   "cell_type": "code",
   "execution_count": 40,
   "id": "a66ca6f7-10f5-45f3-80b1-677934bcd29d",
   "metadata": {},
   "outputs": [
    {
     "data": {
      "text/plain": [
       "array([[85, 77, 90],\n",
       "       [64, 80, 75],\n",
       "       [90, 88, 87]])"
      ]
     },
     "execution_count": 40,
     "metadata": {},
     "output_type": "execute_result"
    }
   ],
   "source": [
    "scores[0:3,1:4] ##抽取第0行到第3行，中第1列~第3列数据值"
   ]
  },
  {
   "cell_type": "code",
   "execution_count": 41,
   "id": "6a5661ef-e4bd-483d-9337-06a5909f0656",
   "metadata": {},
   "outputs": [
    {
     "data": {
      "text/plain": [
       "array([[60, 64],\n",
       "       [80, 82]])"
      ]
     },
     "execution_count": 41,
     "metadata": {},
     "output_type": "execute_result"
    }
   ],
   "source": [
    "scores[[1,3]][:,[0,1]] #两层切片，先抽取第一行和第三行元素，再抽取其中的第0列和第1列元素"
   ]
  },
  {
   "cell_type": "code",
   "execution_count": 42,
   "id": "05855e57-5557-4144-aa55-1ba04e101611",
   "metadata": {},
   "outputs": [
    {
     "data": {
      "text/plain": [
       "array([[60, 64],\n",
       "       [80, 82]])"
      ]
     },
     "execution_count": 42,
     "metadata": {},
     "output_type": "execute_result"
    }
   ],
   "source": [
    " scores[[1,3],0:2] #与上面双层切片等价"
   ]
  },
  {
   "cell_type": "code",
   "execution_count": null,
   "id": "6e725594-69c8-42c7-ba5b-394d0a79fca5",
   "metadata": {},
   "outputs": [],
   "source": [
    "\n",
    "\n"
   ]
  },
  {
   "cell_type": "code",
   "execution_count": 48,
   "id": "bad06ff0-3031-4bdd-992d-202e0bff71f0",
   "metadata": {},
   "outputs": [
    {
     "data": {
      "text/plain": [
       "array([ 0,  1,  2,  3,  4,  5,  6,  7,  8,  9, 10])"
      ]
     },
     "execution_count": 48,
     "metadata": {},
     "output_type": "execute_result"
    }
   ],
   "source": [
    "#创建和初始化多维数组\n",
    "np.arange(0,11)"
   ]
  },
  {
   "cell_type": "code",
   "execution_count": 49,
   "id": "4d29ab76-b883-4c14-a6f0-f4dc35aea097",
   "metadata": {},
   "outputs": [
    {
     "data": {
      "text/plain": [
       "array([3, 5, 7, 9])"
      ]
     },
     "execution_count": 49,
     "metadata": {},
     "output_type": "execute_result"
    }
   ],
   "source": [
    "np.arange(3,11,2)"
   ]
  },
  {
   "cell_type": "code",
   "execution_count": 51,
   "id": "12f416d7-4911-4e2e-a85a-1a0d02974f0c",
   "metadata": {},
   "outputs": [
    {
     "data": {
      "text/plain": [
       "array([0.3, 0.6, 0.9, 1.2])"
      ]
     },
     "execution_count": 51,
     "metadata": {},
     "output_type": "execute_result"
    }
   ],
   "source": [
    "np.arange(0.3,1.5,0.3) #生成浮点数列"
   ]
  },
  {
   "cell_type": "code",
   "execution_count": 52,
   "id": "632c9502-2859-4744-9075-8cc015d4c8ee",
   "metadata": {},
   "outputs": [
    {
     "data": {
      "text/plain": [
       "array([[ 0,  1,  2,  3,  4],\n",
       "       [ 5,  6,  7,  8,  9],\n",
       "       [10, 11, 12, 13, 14]])"
      ]
     },
     "execution_count": 52,
     "metadata": {},
     "output_type": "execute_result"
    }
   ],
   "source": [
    "np.arange(0,15).reshape(3,5) #将一维数组重建为制定多维数组"
   ]
  },
  {
   "cell_type": "code",
   "execution_count": 53,
   "id": "68cd4f21-7c58-4443-9062-d78fee3a22dd",
   "metadata": {},
   "outputs": [
    {
     "data": {
      "text/plain": [
       "array([[0., 0., 0., 0.],\n",
       "       [0., 0., 0., 0.],\n",
       "       [0., 0., 0., 0.]])"
      ]
     },
     "execution_count": 53,
     "metadata": {},
     "output_type": "execute_result"
    }
   ],
   "source": [
    "np.zeros((3,4)) #建一个全为0的数组"
   ]
  },
  {
   "cell_type": "code",
   "execution_count": 55,
   "id": "eff2ba49-a1ed-4746-a6b5-2864751fd3b5",
   "metadata": {},
   "outputs": [
    {
     "data": {
      "text/plain": [
       "array([[1., 1., 1., 1.],\n",
       "       [1., 1., 1., 1.],\n",
       "       [1., 1., 1., 1.]])"
      ]
     },
     "execution_count": 55,
     "metadata": {},
     "output_type": "execute_result"
    }
   ],
   "source": [
    "np.ones((3,4)) #建一个全为1的数组"
   ]
  },
  {
   "cell_type": "code",
   "execution_count": null,
   "id": "b849a828-7d2b-44ab-95d6-3a7655665a5d",
   "metadata": {},
   "outputs": [],
   "source": [
    "\n",
    "\n"
   ]
  },
  {
   "cell_type": "markdown",
   "id": "3706cce4-b1fa-491b-bdb8-5d7ffcb462a5",
   "metadata": {},
   "source": [
    "练习题\n",
    "1、在subjects数组中选择并显示序号1、2、4门课的名称，使用负值序号选择并显示names数组中 '梁晶金'。"
   ]
  },
  {
   "cell_type": "code",
   "execution_count": 60,
   "id": "e8a4b524-9087-4dce-b1b6-e3463778150c",
   "metadata": {},
   "outputs": [
    {
     "data": {
      "text/plain": [
       "array(['english', 'chinese', 'database'], dtype='<U8')"
      ]
     },
     "execution_count": 60,
     "metadata": {},
     "output_type": "execute_result"
    }
   ],
   "source": [
    "subject[[1,2,4]] #选择序号为1,2,4的课"
   ]
  },
  {
   "cell_type": "code",
   "execution_count": 62,
   "id": "eb78b22b-e3ff-4b81-a600-5a804e3c0abc",
   "metadata": {},
   "outputs": [
    {
     "data": {
      "text/plain": [
       "array(['梁晶金'], dtype='<U3')"
      ]
     },
     "execution_count": 62,
     "metadata": {},
     "output_type": "execute_result"
    }
   ],
   "source": [
    "names[:-4]"
   ]
  },
  {
   "cell_type": "markdown",
   "id": "6e438afa-f5c0-45f8-ba4e-cd62d588dccc",
   "metadata": {},
   "source": [
    "练习题\n",
    "2、选择并显示names数组从2到最后的数组元素；选择并显示subjects数组2到4的数组元素。"
   ]
  },
  {
   "cell_type": "code",
   "execution_count": 64,
   "id": "a0dad657-7bd1-408f-a68c-35370d5ff79c",
   "metadata": {},
   "outputs": [
    {
     "data": {
      "text/plain": [
       "array(['朱瑞缘', '王嘉瑜', '郝茹馨'], dtype='<U3')"
      ]
     },
     "execution_count": 64,
     "metadata": {},
     "output_type": "execute_result"
    }
   ],
   "source": [
    "names[2:]"
   ]
  },
  {
   "cell_type": "code",
   "execution_count": 65,
   "id": "15b0a8ab-5c14-49f0-836f-726358e5558b",
   "metadata": {},
   "outputs": [
    {
     "data": {
      "text/plain": [
       "array(['chinese', 'python', 'database', 'physics', 'art'], dtype='<U8')"
      ]
     },
     "execution_count": 65,
     "metadata": {},
     "output_type": "execute_result"
    }
   ],
   "source": [
    "subject[2:]"
   ]
  },
  {
   "cell_type": "markdown",
   "id": "8ca702d9-c09c-4a0b-93dc-dc5bc604a249",
   "metadata": {},
   "source": [
    "练习题\n",
    "使用布尔条件选择并显示subjects数组中的英语和物理科目名称。"
   ]
  },
  {
   "cell_type": "code",
   "execution_count": 66,
   "id": "50a5af2b-f6d6-44d8-8739-4982d5b3689d",
   "metadata": {},
   "outputs": [
    {
     "data": {
      "text/plain": [
       "array(['english', 'physics'], dtype='<U8')"
      ]
     },
     "execution_count": 66,
     "metadata": {},
     "output_type": "execute_result"
    }
   ],
   "source": [
    "subject[(subject == 'physics')|(subject == 'english')]"
   ]
  },
  {
   "cell_type": "code",
   "execution_count": 69,
   "id": "aea19de1-d757-45f0-ace6-168cfaac2322",
   "metadata": {},
   "outputs": [],
   "source": [
    "judge2 = (subject =='physics') | (subject == 'english') "
   ]
  },
  {
   "cell_type": "code",
   "execution_count": 70,
   "id": "51a3f0c3-0444-4209-9b1c-b5b31189709d",
   "metadata": {},
   "outputs": [
    {
     "data": {
      "text/plain": [
       "array([False,  True, False, False, False,  True, False])"
      ]
     },
     "execution_count": 70,
     "metadata": {},
     "output_type": "execute_result"
    }
   ],
   "source": [
    "judge2"
   ]
  },
  {
   "cell_type": "markdown",
   "id": "5b26a9c1-48b6-4414-8e95-9090a77f3eb4",
   "metadata": {},
   "source": []
  },
  {
   "cell_type": "markdown",
   "id": "95cd71ef-d6a8-4ef7-b598-df6eb6f5fbb7",
   "metadata": {},
   "source": [
    "二维数组练习题\n",
    "1、选择并显示scores数组的1、4行。\n",
    "2、选择并显示scores数组中行号2、4同学的数学和Python成绩。"
   ]
  },
  {
   "cell_type": "code",
   "execution_count": 72,
   "id": "a83f162a-879e-40cd-bf00-48d2d313f26a",
   "metadata": {},
   "outputs": [
    {
     "data": {
      "text/plain": [
       "array([[60, 64, 80, 75, 80, 92, 90],\n",
       "       [88, 72, 78, 90, 91, 73, 80]])"
      ]
     },
     "execution_count": 72,
     "metadata": {},
     "output_type": "execute_result"
    }
   ],
   "source": [
    "scores[[1,4]]"
   ]
  },
  {
   "cell_type": "code",
   "execution_count": 74,
   "id": "79ea0fc7-2109-4b54-9e98-13f6dae11cf4",
   "metadata": {},
   "outputs": [
    {
     "data": {
      "text/plain": [
       "array([[90, 87],\n",
       "       [88, 90]])"
      ]
     },
     "execution_count": 74,
     "metadata": {},
     "output_type": "execute_result"
    }
   ],
   "source": [
    "scores[[2,4]][:,[0,3]]"
   ]
  },
  {
   "cell_type": "markdown",
   "id": "dfcf9fd9-86f5-4335-9a72-9da3c105eb78",
   "metadata": {},
   "source": [
    "二维数组练习题\n",
    "3、选择并显示scores数组中所有同学的数学和艺术课程成绩。\n",
    "4、选择并显示scores数组中“朱瑞缘”和“郝茹馨”的英语和艺术课程成绩。"
   ]
  },
  {
   "cell_type": "code",
   "execution_count": 76,
   "id": "2382a2c0-2f77-4f7d-bad6-9fa38a899f89",
   "metadata": {},
   "outputs": [
    {
     "data": {
      "text/plain": [
       "array([[70, 89],\n",
       "       [60, 90],\n",
       "       [90, 91],\n",
       "       [80, 86],\n",
       "       [88, 80]])"
      ]
     },
     "execution_count": 76,
     "metadata": {},
     "output_type": "execute_result"
    }
   ],
   "source": [
    "scores[:,[0,6]]"
   ]
  },
  {
   "cell_type": "code",
   "execution_count": 77,
   "id": "17d90734-eaed-4071-9113-cfd5cc6b647d",
   "metadata": {},
   "outputs": [
    {
     "data": {
      "text/plain": [
       "array([[85, 89],\n",
       "       [72, 80]])"
      ]
     },
     "execution_count": 77,
     "metadata": {},
     "output_type": "execute_result"
    }
   ],
   "source": [
    "scores[[0,4]][:,[1,6]]"
   ]
  },
  {
   "cell_type": "markdown",
   "id": "a6f30b10-40d9-4ed4-a733-02512a4c4b4e",
   "metadata": {},
   "source": [
    "3、生成由整数10~19组成的2×5的二维数组。"
   ]
  },
  {
   "cell_type": "code",
   "execution_count": 78,
   "id": "b1c4f66a-e4b1-4724-9ce1-ad221b34f359",
   "metadata": {},
   "outputs": [],
   "source": [
    "arr = np.arange(10,20).reshape(2,5)"
   ]
  },
  {
   "cell_type": "code",
   "execution_count": 79,
   "id": "8d688fe0-cbf3-4ece-94f2-4b040674448f",
   "metadata": {},
   "outputs": [
    {
     "data": {
      "text/plain": [
       "array([[10, 11, 12, 13, 14],\n",
       "       [15, 16, 17, 18, 19]])"
      ]
     },
     "execution_count": 79,
     "metadata": {},
     "output_type": "execute_result"
    }
   ],
   "source": [
    "arr"
   ]
  },
  {
   "cell_type": "code",
   "execution_count": null,
   "id": "71349210-c8ad-44e8-b36e-e3a0a2cebbb6",
   "metadata": {},
   "outputs": [],
   "source": []
  }
 ],
 "metadata": {
  "kernelspec": {
   "display_name": "Python 3 (ipykernel)",
   "language": "python",
   "name": "python3"
  },
  "language_info": {
   "codemirror_mode": {
    "name": "ipython",
    "version": 3
   },
   "file_extension": ".py",
   "mimetype": "text/x-python",
   "name": "python",
   "nbconvert_exporter": "python",
   "pygments_lexer": "ipython3",
   "version": "3.12.4"
  }
 },
 "nbformat": 4,
 "nbformat_minor": 5
}
